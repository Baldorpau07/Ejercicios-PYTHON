{
  "nbformat": 4,
  "nbformat_minor": 0,
  "metadata": {
    "colab": {
      "provenance": [],
      "authorship_tag": "ABX9TyMN2UdFbuk7BkFYu2VQDA1j",
      "include_colab_link": true
    },
    "kernelspec": {
      "name": "python3",
      "display_name": "Python 3"
    },
    "language_info": {
      "name": "python"
    }
  },
  "cells": [
    {
      "cell_type": "markdown",
      "metadata": {
        "id": "view-in-github",
        "colab_type": "text"
      },
      "source": [
        "<a href=\"https://colab.research.google.com/github/Baldorpau07/Ejercicios-PYTHON/blob/main/Primera_clase.ipynb\" target=\"_parent\"><img src=\"https://colab.research.google.com/assets/colab-badge.svg\" alt=\"Open In Colab\"/></a>"
      ]
    },
    {
      "cell_type": "code",
      "execution_count": null,
      "metadata": {
        "id": "QwQml6nUM27W"
      },
      "outputs": [],
      "source": []
    },
    {
      "cell_type": "markdown",
      "source": [],
      "metadata": {
        "id": "NoDck1QONPUF"
      }
    },
    {
      "cell_type": "markdown",
      "source": [
        "##Ecuacion de la recta\n",
        "\n",
        "> Agregar bloque entrecomillado\n",
        "**hola buenas**\n",
        "\n",
        "\\begin{equation}\n",
        "y=mb+b\n",
        "\\end{equation}"
      ],
      "metadata": {
        "id": "6iz1p-sYNP7d"
      }
    },
    {
      "cell_type": "code",
      "source": [
        "a=1 #a es una variable tipo entera\n",
        "z=3.14#variable de tipo flotante\n",
        "x=\"hola mundo\" #variable de tipo cadena\n",
        "print(a,x) #imprime varibles y texto}\n",
        "\n",
        "x=str(3)\n",
        "y=int(3)\n",
        "z=float(3)\n",
        "\n",
        "print(x,y,x)"
      ],
      "metadata": {
        "colab": {
          "base_uri": "https://localhost:8080/"
        },
        "id": "heKqcrA4Qnae",
        "outputId": "0d1b0746-6d30-43e2-c26f-82b92dd66abc"
      },
      "execution_count": 5,
      "outputs": [
        {
          "output_type": "stream",
          "name": "stdout",
          "text": [
            "1 hola mundo\n",
            "3 3 3\n"
          ]
        }
      ]
    },
    {
      "cell_type": "code",
      "source": [
        "#cadenas\n",
        "p=\"PAULA\"\n",
        "U=\"paula\"\n",
        "print(p,U)"
      ],
      "metadata": {
        "colab": {
          "base_uri": "https://localhost:8080/"
        },
        "id": "1z0VJATITdJP",
        "outputId": "af2354c8-e6fd-4845-8bc3-2ebb2f590112"
      },
      "execution_count": 8,
      "outputs": [
        {
          "output_type": "stream",
          "name": "stdout",
          "text": [
            "PAULA paula\n"
          ]
        }
      ]
    },
    {
      "cell_type": "code",
      "source": [
        "m=7\n",
        "M=\"buenas\"\n",
        "print(m,M)"
      ],
      "metadata": {
        "colab": {
          "base_uri": "https://localhost:8080/"
        },
        "id": "DWwXPjt2T52Y",
        "outputId": "6207c9b4-9610-4e7f-f478-e9fcfe737828"
      },
      "execution_count": 12,
      "outputs": [
        {
          "output_type": "stream",
          "name": "stdout",
          "text": [
            "7 buenas\n"
          ]
        }
      ]
    },
    {
      "cell_type": "code",
      "source": [
        "m,n,b=\"xd\",\"lol\",\"hi\"\n",
        "print(m)\n",
        "print(n)\n",
        "# print(b)\n",
        "print(m,n,b)"
      ],
      "metadata": {
        "colab": {
          "base_uri": "https://localhost:8080/"
        },
        "id": "h5EUyoqPVAkY",
        "outputId": "cd097e0a-ff04-4b0d-8a93-25a63a2a91e1"
      },
      "execution_count": 15,
      "outputs": [
        {
          "output_type": "stream",
          "name": "stdout",
          "text": [
            "xd\n",
            "lol\n",
            "xd lol hi\n"
          ]
        }
      ]
    },
    {
      "cell_type": "code",
      "source": [
        "x=y=x=\"hello\"\n",
        "print(x)\n",
        "print(y)\n",
        "print(x)"
      ],
      "metadata": {
        "colab": {
          "base_uri": "https://localhost:8080/"
        },
        "id": "yL_LtyNKVcnI",
        "outputId": "2c2ba896-093d-4f5f-8e3c-c7df35d3a20f"
      },
      "execution_count": 18,
      "outputs": [
        {
          "output_type": "stream",
          "name": "stdout",
          "text": [
            "hello\n",
            "hello\n",
            "hello\n"
          ]
        }
      ]
    },
    {
      "cell_type": "code",
      "source": [
        "#area de un triangulo\n",
        "#area=base por altura entre dos\n",
        "b=15 #base\n",
        "h=2 #altura\n",
        "a=b*h/2 #area\n",
        "print(\"el area del triangulo es\",a, \"unidades cuadradas\") #resultado"
      ],
      "metadata": {
        "colab": {
          "base_uri": "https://localhost:8080/"
        },
        "id": "XuatWFfhVpHO",
        "outputId": "36ff60cf-771a-4548-aaac-98ad7a487414"
      },
      "execution_count": 24,
      "outputs": [
        {
          "output_type": "stream",
          "name": "stdout",
          "text": [
            "el area del triangulo es 15.0 unidades cuadradas\n"
          ]
        }
      ]
    },
    {
      "cell_type": "code",
      "source": [
        "codigo=15/4\n",
        "codigo\n",
        "t=15//4\n",
        "t\n",
        "suma=5-6.6\n",
        "suma\n",
        "mult=12*15\n",
        "mult\n",
        "div=166666/8\n",
        "div\n",
        "pot=3**4\n",
        "pot\n",
        "raiz=6**(1/2)\n",
        "raiz"
      ],
      "metadata": {
        "id": "Dx8D7_7FXDJI",
        "outputId": "ddf49f31-7888-4d00-958f-d70b2f488f1e",
        "colab": {
          "base_uri": "https://localhost:8080/"
        }
      },
      "execution_count": 33,
      "outputs": [
        {
          "output_type": "execute_result",
          "data": {
            "text/plain": [
              "2.449489742783178"
            ]
          },
          "metadata": {},
          "execution_count": 33
        }
      ]
    },
    {
      "cell_type": "code",
      "source": [
        "import keyword\n",
        "print(keyword.kwlist)"
      ],
      "metadata": {
        "id": "1RKEP7mcYeUw",
        "outputId": "1e61a9b4-6f84-4c0b-b789-12a754974ba6",
        "colab": {
          "base_uri": "https://localhost:8080/"
        }
      },
      "execution_count": 39,
      "outputs": [
        {
          "output_type": "stream",
          "name": "stdout",
          "text": [
            "['False', 'None', 'True', 'and', 'as', 'assert', 'async', 'await', 'break', 'class', 'continue', 'def', 'del', 'elif', 'else', 'except', 'finally', 'for', 'from', 'global', 'if', 'import', 'in', 'is', 'lambda', 'nonlocal', 'not', 'or', 'pass', 'raise', 'return', 'try', 'while', 'with', 'yield']\n"
          ]
        }
      ]
    },
    {
      "cell_type": "code",
      "source": [
        "complejo = 1.2 + 5.0j\n",
        "type(complejo)"
      ],
      "metadata": {
        "id": "T5mHRAr4ZAWw",
        "outputId": "7e454d8b-1e93-44f9-8180-cc110cfb9964",
        "colab": {
          "base_uri": "https://localhost:8080/"
        }
      },
      "execution_count": 41,
      "outputs": [
        {
          "output_type": "execute_result",
          "data": {
            "text/plain": [
              "complex"
            ]
          },
          "metadata": {},
          "execution_count": 41
        }
      ]
    },
    {
      "cell_type": "code",
      "source": [
        "c=25 #grados\n",
        "f= c*9/5+32 #Fahrenheit\n",
        "k= c+273.15 #Kelvin\n",
        "r= c+273.15*9/5 #Rankine\n",
        "print(\"temperatura en Celsius\",c)\n",
        "print(\"temperatura en Fahrenheit:\",f)\n",
        "print(\"temperatura en Kelvin:\",k)\n",
        "print(\"temperatura en Rankine:\",r)"
      ],
      "metadata": {
        "id": "Rhr2OsY6Zj5o",
        "outputId": "b00dfa68-4519-40e8-aa28-35d52937f0ce",
        "colab": {
          "base_uri": "https://localhost:8080/"
        }
      },
      "execution_count": 49,
      "outputs": [
        {
          "output_type": "stream",
          "name": "stdout",
          "text": [
            "temperatura en Celsius 25\n",
            "temperatura en Fahrenheit: 77.0\n",
            "temperatura en Kelvin: 298.15\n",
            "temperatura en Rankine: 516.67\n"
          ]
        }
      ]
    },
    {
      "cell_type": "code",
      "source": [
        "print(type(x),type(y),type(z))"
      ],
      "metadata": {
        "colab": {
          "base_uri": "https://localhost:8080/"
        },
        "id": "OsTa4g8ZSEdH",
        "outputId": "fd946209-8fad-4d0d-fe51-d1ce6d9f7015"
      },
      "execution_count": 6,
      "outputs": [
        {
          "output_type": "stream",
          "name": "stdout",
          "text": [
            "<class 'str'> <class 'int'> <class 'float'>\n"
          ]
        }
      ]
    }
  ]
}