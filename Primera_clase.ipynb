{
  "nbformat": 4,
  "nbformat_minor": 0,
  "metadata": {
    "colab": {
      "provenance": [],
      "authorship_tag": "ABX9TyNby+GPKapIRKT4G/qsD95O",
      "include_colab_link": true
    },
    "kernelspec": {
      "name": "python3",
      "display_name": "Python 3"
    },
    "language_info": {
      "name": "python"
    }
  },
  "cells": [
    {
      "cell_type": "markdown",
      "metadata": {
        "id": "view-in-github",
        "colab_type": "text"
      },
      "source": [
        "<a href=\"https://colab.research.google.com/github/Baldorpau07/Ejercicios-PYTHON/blob/main/Primera_clase.ipynb\" target=\"_parent\"><img src=\"https://colab.research.google.com/assets/colab-badge.svg\" alt=\"Open In Colab\"/></a>"
      ]
    },
    {
      "cell_type": "code",
      "execution_count": null,
      "metadata": {
        "id": "QwQml6nUM27W"
      },
      "outputs": [],
      "source": []
    },
    {
      "cell_type": "markdown",
      "source": [],
      "metadata": {
        "id": "NoDck1QONPUF"
      }
    },
    {
      "cell_type": "markdown",
      "source": [
        "##Ecuacion de la recta\n",
        "\n",
        "> Agregar bloque entrecomillado\n",
        "**hola buenas**\n",
        "\n",
        "\\begin{equation}\n",
        "y=mb+b\n",
        "\\end{equation}"
      ],
      "metadata": {
        "id": "6iz1p-sYNP7d"
      }
    }
  ]
}