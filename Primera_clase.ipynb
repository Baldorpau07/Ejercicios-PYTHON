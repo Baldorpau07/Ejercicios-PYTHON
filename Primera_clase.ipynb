{
  "nbformat": 4,
  "nbformat_minor": 0,
  "metadata": {
    "colab": {
      "provenance": [],
      "authorship_tag": "ABX9TyMayj+t3WKFlJWKnAsKE9+D",
      "include_colab_link": true
    },
    "kernelspec": {
      "name": "python3",
      "display_name": "Python 3"
    },
    "language_info": {
      "name": "python"
    }
  },
  "cells": [
    {
      "cell_type": "markdown",
      "metadata": {
        "id": "view-in-github",
        "colab_type": "text"
      },
      "source": [
        "<a href=\"https://colab.research.google.com/github/Baldorpau07/Ejercicios-PYTHON/blob/main/Primera_clase.ipynb\" target=\"_parent\"><img src=\"https://colab.research.google.com/assets/colab-badge.svg\" alt=\"Open In Colab\"/></a>"
      ]
    },
    {
      "cell_type": "code",
      "execution_count": null,
      "metadata": {
        "id": "QwQml6nUM27W"
      },
      "outputs": [],
      "source": []
    },
    {
      "cell_type": "markdown",
      "source": [],
      "metadata": {
        "id": "NoDck1QONPUF"
      }
    },
    {
      "cell_type": "markdown",
      "source": [
        "##Ecuacion de la recta\n",
        "\n",
        "> Agregar bloque entrecomillado\n",
        "**hola buenas**\n",
        "\n",
        "\\begin{equation}\n",
        "y=mb+b\n",
        "\\end{equation}"
      ],
      "metadata": {
        "id": "6iz1p-sYNP7d"
      }
    },
    {
      "cell_type": "code",
      "source": [
        "a=1 #a es una variable tipo entera\n",
        "z=3.14#variable de tipo flotante\n",
        "x=\"hola mundo\" #variable de tipo cadena\n",
        "print(a,x) #imprime varibles y texto}\n",
        "\n",
        "x=str(3)\n",
        "y=int(3)\n",
        "z=float(3)\n",
        "\n",
        "print(x,y,x)"
      ],
      "metadata": {
        "id": "heKqcrA4Qnae",
        "outputId": "0d1b0746-6d30-43e2-c26f-82b92dd66abc",
        "colab": {
          "base_uri": "https://localhost:8080/"
        }
      },
      "execution_count": 5,
      "outputs": [
        {
          "output_type": "stream",
          "name": "stdout",
          "text": [
            "1 hola mundo\n",
            "3 3 3\n"
          ]
        }
      ]
    },
    {
      "cell_type": "code",
      "source": [
        "#cadenas\n",
        "p=\"PAULA\"\n",
        "U=\"paula\"\n",
        "print(p,U)"
      ],
      "metadata": {
        "id": "1z0VJATITdJP",
        "outputId": "af2354c8-e6fd-4845-8bc3-2ebb2f590112",
        "colab": {
          "base_uri": "https://localhost:8080/"
        }
      },
      "execution_count": 8,
      "outputs": [
        {
          "output_type": "stream",
          "name": "stdout",
          "text": [
            "PAULA paula\n"
          ]
        }
      ]
    },
    {
      "cell_type": "code",
      "source": [
        "m=7\n",
        "M=\"buenas\"\n",
        "print(m,M)"
      ],
      "metadata": {
        "id": "DWwXPjt2T52Y",
        "outputId": "6207c9b4-9610-4e7f-f478-e9fcfe737828",
        "colab": {
          "base_uri": "https://localhost:8080/"
        }
      },
      "execution_count": 12,
      "outputs": [
        {
          "output_type": "stream",
          "name": "stdout",
          "text": [
            "7 buenas\n"
          ]
        }
      ]
    },
    {
      "cell_type": "code",
      "source": [
        "m,n,b=\"xd\",\"lol\",\"hi\"\n",
        "print(m)\n",
        "print(n)\n",
        "# print(b)\n",
        "print(m,n,b)"
      ],
      "metadata": {
        "id": "h5EUyoqPVAkY",
        "outputId": "cd097e0a-ff04-4b0d-8a93-25a63a2a91e1",
        "colab": {
          "base_uri": "https://localhost:8080/"
        }
      },
      "execution_count": 15,
      "outputs": [
        {
          "output_type": "stream",
          "name": "stdout",
          "text": [
            "xd\n",
            "lol\n",
            "xd lol hi\n"
          ]
        }
      ]
    },
    {
      "cell_type": "code",
      "source": [
        "x=y=x=\"hello\"\n",
        "print(x)\n",
        "print(y)\n",
        "print(x)"
      ],
      "metadata": {
        "id": "yL_LtyNKVcnI",
        "outputId": "2c2ba896-093d-4f5f-8e3c-c7df35d3a20f",
        "colab": {
          "base_uri": "https://localhost:8080/"
        }
      },
      "execution_count": 18,
      "outputs": [
        {
          "output_type": "stream",
          "name": "stdout",
          "text": [
            "hello\n",
            "hello\n",
            "hello\n"
          ]
        }
      ]
    },
    {
      "cell_type": "code",
      "source": [
        "#area de un triangulo\n",
        "#area=base por altura entre dos\n",
        "b=15 #base\n",
        "h=2 #altura\n",
        "a=b*h/2 #area\n",
        "print(\"el area del triangulo es\",a, \"unidades cuadradas\")"
      ],
      "metadata": {
        "id": "XuatWFfhVpHO",
        "outputId": "271be641-8661-4205-cc17-05057f6597cc",
        "colab": {
          "base_uri": "https://localhost:8080/"
        }
      },
      "execution_count": 23,
      "outputs": [
        {
          "output_type": "stream",
          "name": "stdout",
          "text": [
            "el area del triangulo es 15.0 unidades cuadradas\n"
          ]
        }
      ]
    },
    {
      "cell_type": "code",
      "source": [
        "print(type(x),type(y),type(z))"
      ],
      "metadata": {
        "id": "OsTa4g8ZSEdH",
        "outputId": "fd946209-8fad-4d0d-fe51-d1ce6d9f7015",
        "colab": {
          "base_uri": "https://localhost:8080/"
        }
      },
      "execution_count": 6,
      "outputs": [
        {
          "output_type": "stream",
          "name": "stdout",
          "text": [
            "<class 'str'> <class 'int'> <class 'float'>\n"
          ]
        }
      ]
    }
  ]
}