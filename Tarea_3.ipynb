{
  "nbformat": 4,
  "nbformat_minor": 0,
  "metadata": {
    "colab": {
      "provenance": [],
      "authorship_tag": "ABX9TyMm3CdnOnkDjWKQDHufzU/o",
      "include_colab_link": true
    },
    "kernelspec": {
      "name": "python3",
      "display_name": "Python 3"
    },
    "language_info": {
      "name": "python"
    }
  },
  "cells": [
    {
      "cell_type": "markdown",
      "metadata": {
        "id": "view-in-github",
        "colab_type": "text"
      },
      "source": [
        "<a href=\"https://colab.research.google.com/github/Baldorpau07/Ejercicios-PYTHON/blob/main/Tarea_3.ipynb\" target=\"_parent\"><img src=\"https://colab.research.google.com/assets/colab-badge.svg\" alt=\"Open In Colab\"/></a>"
      ]
    },
    {
      "cell_type": "code",
      "execution_count": null,
      "metadata": {
        "id": "PhB7yzk3KJyj"
      },
      "outputs": [],
      "source": [
        "#Programa de divisas\n",
        "print(\"Conversión de divisas (dólares americanos):\")\n",
        "print(\"\\nTasas de cambio\")\n",
        "print(\"1 USB= 18.38 MXN (Pesos mexicanos)\")\n",
        "print(\"1 USB= 0.85 EUR (Euros)\")\n",
        "print(\"1 USB= 0.74 GBP (Libras esterlinas)\")\n",
        "print(\"1 USB= 7.12 CNY (Yuan chino)\")\n",
        "print(\"1 USB= 81.56 RUB (Rublos rusos)\")\n",
        "cantidad= float(input(\"\\nCantidad deseada a convertir (USD):\"))\n",
        "pesos=18.38*cantidad\n",
        "euros=0.85*cantidad\n",
        "libras=0.74*cantidad\n",
        "yuan=7.12*cantidad\n",
        "rublos=81.56*cantidad\n",
        "p=round(pesos, 2)\n",
        "e=round(euros, 2)\n",
        "g=round(libras, 2)\n",
        "c=round(yuan, 2)\n",
        "r=round(rublos,2)\n",
        "print(\"\\nConversiones:\")\n",
        "print(p,\"MXN\")\n",
        "print(e,\"EUR\")\n",
        "print(g,\"GBP\")\n",
        "print(c,\"CNY\")\n",
        "print(r,\"RUB\")"
      ]
    },
    {
      "cell_type": "code",
      "source": [
        "#Programa de números y operaciones\n",
        "p_n= float(input(\"Ingrese el primer número:\"))\n",
        "s_n= float(input(\"Ingrese el segundo número:\"))\n",
        "suma=p_n+s_n\n",
        "resta=p_n-s_n\n",
        "multi=p_n*s_n\n",
        "div=p_n/s_n\n",
        "pot_1=p_n**2\n",
        "pot_2=s_n**2\n",
        "raiz1=p_n**0.5\n",
        "raiz2=s_n**0.5\n",
        "p=round(pot_1, 2)\n",
        "s=round(suma, 2)\n",
        "r=round(resta, 2)\n",
        "m=round(multi, 2)\n",
        "d=round(div, 2)\n",
        "p1=round(pot_1, 2)\n",
        "p2=round(pot_2, 2)\n",
        "r1=round(raiz1, 2)\n",
        "r2=round(raiz2, 2)\n",
        "print(\"\\nOperaciones:\")\n",
        "print(\"Suma:\",s)\n",
        "print(\"Resta:\",r)\n",
        "print(\"Multiplicación:\",m)\n",
        "print(\"División:\",d)\n",
        "print(\"Potencias:\",p1,\",\",p2)\n",
        "print(\"Raíces:\",r1,\",\",r2)"
      ],
      "metadata": {
        "colab": {
          "base_uri": "https://localhost:8080/",
          "height": 365
        },
        "id": "tnhGsCiiYilj",
        "outputId": "0e394ab7-3590-4278-da1a-1f866cd2b994"
      },
      "execution_count": null,
      "outputs": [
        {
          "output_type": "error",
          "ename": "KeyboardInterrupt",
          "evalue": "Interrupted by user",
          "traceback": [
            "\u001b[0;31m---------------------------------------------------------------------------\u001b[0m",
            "\u001b[0;31mKeyboardInterrupt\u001b[0m                         Traceback (most recent call last)",
            "\u001b[0;32m/tmp/ipython-input-201413332.py\u001b[0m in \u001b[0;36m<cell line: 0>\u001b[0;34m()\u001b[0m\n\u001b[1;32m      1\u001b[0m \u001b[0;31m#Ejercicio de números y operaciones\u001b[0m\u001b[0;34m\u001b[0m\u001b[0;34m\u001b[0m\u001b[0m\n\u001b[0;32m----> 2\u001b[0;31m \u001b[0mp_n\u001b[0m\u001b[0;34m=\u001b[0m \u001b[0mfloat\u001b[0m\u001b[0;34m(\u001b[0m\u001b[0minput\u001b[0m\u001b[0;34m(\u001b[0m\u001b[0;34m\"Ingrese el primer número:\"\u001b[0m\u001b[0;34m)\u001b[0m\u001b[0;34m)\u001b[0m\u001b[0;34m\u001b[0m\u001b[0;34m\u001b[0m\u001b[0m\n\u001b[0m\u001b[1;32m      3\u001b[0m \u001b[0ms_n\u001b[0m\u001b[0;34m=\u001b[0m \u001b[0mfloat\u001b[0m\u001b[0;34m(\u001b[0m\u001b[0minput\u001b[0m\u001b[0;34m(\u001b[0m\u001b[0;34m\"Ingrese el segundo número:\"\u001b[0m\u001b[0;34m)\u001b[0m\u001b[0;34m)\u001b[0m\u001b[0;34m\u001b[0m\u001b[0;34m\u001b[0m\u001b[0m\n\u001b[1;32m      4\u001b[0m \u001b[0msuma\u001b[0m\u001b[0;34m=\u001b[0m\u001b[0mp_n\u001b[0m\u001b[0;34m+\u001b[0m\u001b[0ms_n\u001b[0m\u001b[0;34m\u001b[0m\u001b[0;34m\u001b[0m\u001b[0m\n\u001b[1;32m      5\u001b[0m \u001b[0mresta\u001b[0m\u001b[0;34m=\u001b[0m\u001b[0mp_n\u001b[0m\u001b[0;34m-\u001b[0m\u001b[0ms_n\u001b[0m\u001b[0;34m\u001b[0m\u001b[0;34m\u001b[0m\u001b[0m\n",
            "\u001b[0;32m/usr/local/lib/python3.12/dist-packages/ipykernel/kernelbase.py\u001b[0m in \u001b[0;36mraw_input\u001b[0;34m(self, prompt)\u001b[0m\n\u001b[1;32m   1175\u001b[0m                 \u001b[0;34m\"raw_input was called, but this frontend does not support input requests.\"\u001b[0m\u001b[0;34m\u001b[0m\u001b[0;34m\u001b[0m\u001b[0m\n\u001b[1;32m   1176\u001b[0m             )\n\u001b[0;32m-> 1177\u001b[0;31m         return self._input_request(\n\u001b[0m\u001b[1;32m   1178\u001b[0m             \u001b[0mstr\u001b[0m\u001b[0;34m(\u001b[0m\u001b[0mprompt\u001b[0m\u001b[0;34m)\u001b[0m\u001b[0;34m,\u001b[0m\u001b[0;34m\u001b[0m\u001b[0;34m\u001b[0m\u001b[0m\n\u001b[1;32m   1179\u001b[0m             \u001b[0mself\u001b[0m\u001b[0;34m.\u001b[0m\u001b[0m_parent_ident\u001b[0m\u001b[0;34m[\u001b[0m\u001b[0;34m\"shell\"\u001b[0m\u001b[0;34m]\u001b[0m\u001b[0;34m,\u001b[0m\u001b[0;34m\u001b[0m\u001b[0;34m\u001b[0m\u001b[0m\n",
            "\u001b[0;32m/usr/local/lib/python3.12/dist-packages/ipykernel/kernelbase.py\u001b[0m in \u001b[0;36m_input_request\u001b[0;34m(self, prompt, ident, parent, password)\u001b[0m\n\u001b[1;32m   1217\u001b[0m             \u001b[0;32mexcept\u001b[0m \u001b[0mKeyboardInterrupt\u001b[0m\u001b[0;34m:\u001b[0m\u001b[0;34m\u001b[0m\u001b[0;34m\u001b[0m\u001b[0m\n\u001b[1;32m   1218\u001b[0m                 \u001b[0;31m# re-raise KeyboardInterrupt, to truncate traceback\u001b[0m\u001b[0;34m\u001b[0m\u001b[0;34m\u001b[0m\u001b[0m\n\u001b[0;32m-> 1219\u001b[0;31m                 \u001b[0;32mraise\u001b[0m \u001b[0mKeyboardInterrupt\u001b[0m\u001b[0;34m(\u001b[0m\u001b[0;34m\"Interrupted by user\"\u001b[0m\u001b[0;34m)\u001b[0m \u001b[0;32mfrom\u001b[0m \u001b[0;32mNone\u001b[0m\u001b[0;34m\u001b[0m\u001b[0;34m\u001b[0m\u001b[0m\n\u001b[0m\u001b[1;32m   1220\u001b[0m             \u001b[0;32mexcept\u001b[0m \u001b[0mException\u001b[0m\u001b[0;34m:\u001b[0m\u001b[0;34m\u001b[0m\u001b[0;34m\u001b[0m\u001b[0m\n\u001b[1;32m   1221\u001b[0m                 \u001b[0mself\u001b[0m\u001b[0;34m.\u001b[0m\u001b[0mlog\u001b[0m\u001b[0;34m.\u001b[0m\u001b[0mwarning\u001b[0m\u001b[0;34m(\u001b[0m\u001b[0;34m\"Invalid Message:\"\u001b[0m\u001b[0;34m,\u001b[0m \u001b[0mexc_info\u001b[0m\u001b[0;34m=\u001b[0m\u001b[0;32mTrue\u001b[0m\u001b[0;34m)\u001b[0m\u001b[0;34m\u001b[0m\u001b[0;34m\u001b[0m\u001b[0m\n",
            "\u001b[0;31mKeyboardInterrupt\u001b[0m: Interrupted by user"
          ]
        }
      ]
    },
    {
      "cell_type": "code",
      "source": [
        "#Programa descuentos\n",
        "print(\"Calculadora de descuentos\")\n",
        "precio_0=float(input(\"Ingrese el precio del producto:\"))\n",
        "descuento=float(input(\"Ingrese el porcentaje de descuento:\"))\n",
        "s=descuento*precio_0/100\n",
        "precio_f=precio_0-s\n",
        "w=round(precio_f,2)\n",
        "print(\"El precio final es:\",w)"
      ],
      "metadata": {
        "id": "_TuqACeqbph6",
        "colab": {
          "base_uri": "https://localhost:8080/"
        },
        "outputId": "c1e0e6ae-7305-4c48-bfbd-f14190d54117"
      },
      "execution_count": null,
      "outputs": [
        {
          "output_type": "stream",
          "name": "stdout",
          "text": [
            "Calculadora de descuentos\n",
            "Ingrese el precio del producto:1000.4444\n",
            "Ingrese el porcentaje de descuento:35\n",
            "El precio final es: 650.29\n"
          ]
        }
      ]
    },
    {
      "cell_type": "code",
      "source": [
        "#Programa de conversión de coordenadas y localización geográfica\n",
        "_1_la_d=40\n",
        "_1_la_m=41\n",
        "_1_la_s=21\n",
        "_1_lo_d=74\n",
        "_1_lo_m=2\n",
        "_1_lo_s=40\n",
        "\n",
        "_2_la_d=48\n",
        "_2_la_m=51\n",
        "_2_la_s=12\n",
        "_2_lo_d=2\n",
        "_2_lo_m=20\n",
        "_2_lo_s=55\n",
        "\n",
        "_3_la_d=34\n",
        "_3_la_m=3\n",
        "_3_la_s=8\n",
        "_3_lo_d=151\n",
        "_3_lo_m=12\n",
        "_3_lo_s=33\n",
        "\n",
        "c1=_1_la_d+_1_la_m/60+_1_la_s/3600\n",
        "c2=_1_lo_d+_1_lo_m/60+_1_lo_s/3600\n",
        "c3=_2_la_d+_2_la_m/60+_2_la_s/3600\n",
        "c4=_2_lo_d+_2_lo_m/60+_2_lo_s/3600\n",
        "c5=_3_la_d+_3_la_m/60+_3_la_s/3600\n",
        "c6=_3_lo_d+_3_lo_m/60+_3_lo_s/3600\n",
        "_1=round(c1,3)\n",
        "_2=round(c2,3)\n",
        "_3=round(c3,3)\n",
        "_4=round(c4,3)\n",
        "_5=round(c5,3)\n",
        "_6=round(c6,3)\n",
        "print(\"Lugares emblemáticos:\")\n",
        "print(\"\\n1.-La estatua de la Libertad, Nueva York, USA\")\n",
        "print(\"Coordenadas\",\"(+\",_1,\",\",\"-\",_2,\")\")\n",
        "print(\"\\n2.-Catedral de Notre Dame, Paris, Francia\")\n",
        "print(\"Coordenadas\",\"(+\",_3,\",\",\"+\",_4,\")\")\n",
        "print(\"\\n3.-Ópera de Sídney, Australia\")\n",
        "print(\"Coordenadas\",\"(-\",_5,\",\",\"+\",_6,\")\")"
      ],
      "metadata": {
        "colab": {
          "base_uri": "https://localhost:8080/"
        },
        "id": "_JLocEY1jHM8",
        "outputId": "99733103-406f-4866-d731-5e06a1fd7473"
      },
      "execution_count": null,
      "outputs": [
        {
          "output_type": "stream",
          "name": "stdout",
          "text": [
            "Lugares emblemáticos:\n",
            "\n",
            "1.-La estatua de la Libertad, Nueva York, USA\n",
            "Coordenadas (+ 40.689 , - 74.044 )\n",
            "\n",
            "2.-Catedral de Notre Dame, Paris, Francia\n",
            "Coordenadas (+ 48.853 , + 2.349 )\n",
            "\n",
            "3.-Ópera de Sídney, Australia\n",
            "Coordenadas (- 34.052 , + 151.209 )\n"
          ]
        }
      ]
    },
    {
      "cell_type": "code",
      "source": [
        "#Ejercicio de física\n",
        "m=2\n",
        "h=0.1\n",
        "ve=(3**2)\n",
        "v=3\n",
        "g=9.8\n",
        "Ec=(m*ve)/2\n",
        "Ep1=m*g*h\n",
        "Emt1=Ec+Ep\n",
        "ep=round(Ep,2)\n",
        "ec=round(Ec,2)\n",
        "print(\"Ejercicio de física\")\n",
        "print(\"\\nDatos:\")\n",
        "print(\"Masa:\",m, \"kg\")\n",
        "print(\"Altura:\",h, \"m\")\n",
        "print(\"Velocidad:\",ve, \"m/s\")\n",
        "print(\"Gravedad considerada a:\",g,\"m/s^2\")\n",
        "print(\"\\nResultados:\")\n",
        "print(\"Energia cinética:\",ec)\n",
        "print(\"Energia potencial:\",ep)\n",
        "print(\"Energia total:\",Emt)"
      ],
      "metadata": {
        "colab": {
          "base_uri": "https://localhost:8080/"
        },
        "id": "aJz2yzmWogN5",
        "outputId": "d5c55cba-e4a8-494c-d143-d70faf00dae6"
      },
      "execution_count": null,
      "outputs": [
        {
          "output_type": "stream",
          "name": "stdout",
          "text": [
            "Ejercicio de física\n",
            "\n",
            "Datos:\n",
            "Masa: 2 kg\n",
            "Altura: 0.1 m\n",
            "Velocidad: 9 m/s\n",
            "Gravedad considerada a: 9.8 m/s^2\n",
            "\n",
            "Resultados:\n",
            "Energia cinética: 9.0\n",
            "Energia potencial: 1.96\n",
            "Energia total: 10.96\n"
          ]
        }
      ]
    },
    {
      "cell_type": "code",
      "source": [
        "#Programa identificación de enteros\n",
        "entrada=input(\"Ingrese su un número entero:\")\n",
        "if float(entrada)%2==1: print(\"Es un entero impar\")\n",
        "elif float(entrada)%2==0: print(\"Es un entero par\")\n",
        "else: print(\"No es un entero\")"
      ],
      "metadata": {
        "id": "tM5MudepraYh",
        "colab": {
          "base_uri": "https://localhost:8080/",
          "height": 365
        },
        "outputId": "c5d7330b-9aa6-4cf5-d3d9-2843ff37bc92"
      },
      "execution_count": 73,
      "outputs": [
        {
          "output_type": "error",
          "ename": "KeyboardInterrupt",
          "evalue": "Interrupted by user",
          "traceback": [
            "\u001b[0;31m---------------------------------------------------------------------------\u001b[0m",
            "\u001b[0;31mKeyboardInterrupt\u001b[0m                         Traceback (most recent call last)",
            "\u001b[0;32m/tmp/ipython-input-1365525909.py\u001b[0m in \u001b[0;36m<cell line: 0>\u001b[0;34m()\u001b[0m\n\u001b[1;32m      1\u001b[0m \u001b[0;31m#Programa identificación de enteros\u001b[0m\u001b[0;34m\u001b[0m\u001b[0;34m\u001b[0m\u001b[0m\n\u001b[0;32m----> 2\u001b[0;31m \u001b[0mentrada\u001b[0m\u001b[0;34m=\u001b[0m\u001b[0minput\u001b[0m\u001b[0;34m(\u001b[0m\u001b[0;34m\"Ingrese su un número entero:\"\u001b[0m\u001b[0;34m)\u001b[0m\u001b[0;34m\u001b[0m\u001b[0;34m\u001b[0m\u001b[0m\n\u001b[0m\u001b[1;32m      3\u001b[0m \u001b[0;32mif\u001b[0m \u001b[0mfloat\u001b[0m\u001b[0;34m(\u001b[0m\u001b[0mentrada\u001b[0m\u001b[0;34m)\u001b[0m\u001b[0;34m%\u001b[0m\u001b[0;36m2\u001b[0m\u001b[0;34m==\u001b[0m\u001b[0;36m1\u001b[0m\u001b[0;34m:\u001b[0m \u001b[0mprint\u001b[0m\u001b[0;34m(\u001b[0m\u001b[0;34m\"Es un entero impar\"\u001b[0m\u001b[0;34m)\u001b[0m\u001b[0;34m\u001b[0m\u001b[0;34m\u001b[0m\u001b[0m\n\u001b[1;32m      4\u001b[0m \u001b[0;32melif\u001b[0m \u001b[0mfloat\u001b[0m\u001b[0;34m(\u001b[0m\u001b[0mentrada\u001b[0m\u001b[0;34m)\u001b[0m\u001b[0;34m%\u001b[0m\u001b[0;36m2\u001b[0m\u001b[0;34m==\u001b[0m\u001b[0;36m0\u001b[0m\u001b[0;34m:\u001b[0m \u001b[0mprint\u001b[0m\u001b[0;34m(\u001b[0m\u001b[0;34m\"Es un entero par\"\u001b[0m\u001b[0;34m)\u001b[0m\u001b[0;34m\u001b[0m\u001b[0;34m\u001b[0m\u001b[0m\n\u001b[1;32m      5\u001b[0m \u001b[0;32melse\u001b[0m\u001b[0;34m:\u001b[0m \u001b[0mprint\u001b[0m\u001b[0;34m(\u001b[0m\u001b[0;34m\"No es un entero\"\u001b[0m\u001b[0;34m)\u001b[0m\u001b[0;34m\u001b[0m\u001b[0;34m\u001b[0m\u001b[0m\n",
            "\u001b[0;32m/usr/local/lib/python3.12/dist-packages/ipykernel/kernelbase.py\u001b[0m in \u001b[0;36mraw_input\u001b[0;34m(self, prompt)\u001b[0m\n\u001b[1;32m   1175\u001b[0m                 \u001b[0;34m\"raw_input was called, but this frontend does not support input requests.\"\u001b[0m\u001b[0;34m\u001b[0m\u001b[0;34m\u001b[0m\u001b[0m\n\u001b[1;32m   1176\u001b[0m             )\n\u001b[0;32m-> 1177\u001b[0;31m         return self._input_request(\n\u001b[0m\u001b[1;32m   1178\u001b[0m             \u001b[0mstr\u001b[0m\u001b[0;34m(\u001b[0m\u001b[0mprompt\u001b[0m\u001b[0;34m)\u001b[0m\u001b[0;34m,\u001b[0m\u001b[0;34m\u001b[0m\u001b[0;34m\u001b[0m\u001b[0m\n\u001b[1;32m   1179\u001b[0m             \u001b[0mself\u001b[0m\u001b[0;34m.\u001b[0m\u001b[0m_parent_ident\u001b[0m\u001b[0;34m[\u001b[0m\u001b[0;34m\"shell\"\u001b[0m\u001b[0;34m]\u001b[0m\u001b[0;34m,\u001b[0m\u001b[0;34m\u001b[0m\u001b[0;34m\u001b[0m\u001b[0m\n",
            "\u001b[0;32m/usr/local/lib/python3.12/dist-packages/ipykernel/kernelbase.py\u001b[0m in \u001b[0;36m_input_request\u001b[0;34m(self, prompt, ident, parent, password)\u001b[0m\n\u001b[1;32m   1217\u001b[0m             \u001b[0;32mexcept\u001b[0m \u001b[0mKeyboardInterrupt\u001b[0m\u001b[0;34m:\u001b[0m\u001b[0;34m\u001b[0m\u001b[0;34m\u001b[0m\u001b[0m\n\u001b[1;32m   1218\u001b[0m                 \u001b[0;31m# re-raise KeyboardInterrupt, to truncate traceback\u001b[0m\u001b[0;34m\u001b[0m\u001b[0;34m\u001b[0m\u001b[0m\n\u001b[0;32m-> 1219\u001b[0;31m                 \u001b[0;32mraise\u001b[0m \u001b[0mKeyboardInterrupt\u001b[0m\u001b[0;34m(\u001b[0m\u001b[0;34m\"Interrupted by user\"\u001b[0m\u001b[0;34m)\u001b[0m \u001b[0;32mfrom\u001b[0m \u001b[0;32mNone\u001b[0m\u001b[0;34m\u001b[0m\u001b[0;34m\u001b[0m\u001b[0m\n\u001b[0m\u001b[1;32m   1220\u001b[0m             \u001b[0;32mexcept\u001b[0m \u001b[0mException\u001b[0m\u001b[0;34m:\u001b[0m\u001b[0;34m\u001b[0m\u001b[0;34m\u001b[0m\u001b[0m\n\u001b[1;32m   1221\u001b[0m                 \u001b[0mself\u001b[0m\u001b[0;34m.\u001b[0m\u001b[0mlog\u001b[0m\u001b[0;34m.\u001b[0m\u001b[0mwarning\u001b[0m\u001b[0;34m(\u001b[0m\u001b[0;34m\"Invalid Message:\"\u001b[0m\u001b[0;34m,\u001b[0m \u001b[0mexc_info\u001b[0m\u001b[0;34m=\u001b[0m\u001b[0;32mTrue\u001b[0m\u001b[0;34m)\u001b[0m\u001b[0;34m\u001b[0m\u001b[0;34m\u001b[0m\u001b[0m\n",
            "\u001b[0;31mKeyboardInterrupt\u001b[0m: Interrupted by user"
          ]
        }
      ]
    },
    {
      "cell_type": "code",
      "source": [
        "#Programa triángulo\n",
        "print(\"Tipo de triángulo\")\n",
        "a=float(input(\"Ingrese el valor del primer lado:\"))\n",
        "b=float(input(\"Ingrese el valor del segundo lado:\"))\n",
        "c=float(input(\"Ingrese el valor del tercer lado:\"))\n",
        "if a==b==c: print(\"Es un triángulo equilátero\")\n",
        "elif a==b!=c or a!=b==c or a==c!=b: print(\"Es un triángulo isósceles\")\n",
        "elif a!=b!=c: print(\"Es un triángulo escaleno\")\n",
        "else: print(\"No es un triángulo\")"
      ],
      "metadata": {
        "colab": {
          "base_uri": "https://localhost:8080/"
        },
        "id": "5nlaSFnpHlc-",
        "outputId": "77c2620c-c883-4d3d-b884-77a04ca3c5f2"
      },
      "execution_count": 78,
      "outputs": [
        {
          "output_type": "stream",
          "name": "stdout",
          "text": [
            "Tipo de triángulo\n",
            "Ingrese el valor del primer lado:2\n",
            "Ingrese el valor del segundo lado:1\n",
            "Ingrese el valor del tercer lado:4\n",
            "Es un triángulo escaleno\n"
          ]
        }
      ]
    },
    {
      "cell_type": "code",
      "source": [
        "#Programa que determina al mayor de 3 números (opción 1, con varios elif)\n",
        "print(\"Programa que determina al mayor de 3 números\\n\")\n",
        "a=float(input(\"Ingrese el primer número \"))\n",
        "b=float(input(\"Ingrese el segundo número \"))\n",
        "c=float(input(\"Ingrese el tercer número \"))\n",
        "\n",
        "if a>b>c: print(\"a es el mayor\")\n",
        "elif a>c>b: print(\"a es el mayor\")\n",
        "elif b>a>c: print(\"b es el mayor\")\n",
        "elif b>c>a: print(\"b es el mayor\")\n",
        "else: print(\"c es el mayor\")"
      ],
      "metadata": {
        "id": "ARRwO80lNCju"
      },
      "execution_count": null,
      "outputs": []
    },
    {
      "cell_type": "code",
      "source": [
        "#Programa que determina al mayor de 3 números (opción 2, con \"or\", más corto)\n",
        "print(\"Programa que determina al mayor de 3 números\\n\")\n",
        "a=float(input(\"Ingrese el primer número \"))\n",
        "b=float(input(\"Ingrese el segundo número \"))\n",
        "c=float(input(\"Ingrese el tercer número \"))\n",
        "\n",
        "if a>b>c or a>c>b: print(\"a es el mayor\")\n",
        "elif b>a>c or b>c>a: print(\"b es el mayor\")\n",
        "else: print(\"c es el mayor\")"
      ],
      "metadata": {
        "colab": {
          "base_uri": "https://localhost:8080/",
          "height": 400
        },
        "id": "J37NLFYxE9tV",
        "outputId": "dca6d465-b272-4051-fcfa-f9ec580f133b"
      },
      "execution_count": 124,
      "outputs": [
        {
          "output_type": "stream",
          "name": "stdout",
          "text": [
            "Programa que determina al mayor de 3 números\n",
            "\n"
          ]
        },
        {
          "output_type": "error",
          "ename": "KeyboardInterrupt",
          "evalue": "Interrupted by user",
          "traceback": [
            "\u001b[0;31m---------------------------------------------------------------------------\u001b[0m",
            "\u001b[0;31mKeyboardInterrupt\u001b[0m                         Traceback (most recent call last)",
            "\u001b[0;32m/tmp/ipython-input-3011906676.py\u001b[0m in \u001b[0;36m<cell line: 0>\u001b[0;34m()\u001b[0m\n\u001b[1;32m      1\u001b[0m \u001b[0;31m#Programa que determina al mayor de 3 números (opción 2, con \"or\", más corto)\u001b[0m\u001b[0;34m\u001b[0m\u001b[0;34m\u001b[0m\u001b[0m\n\u001b[1;32m      2\u001b[0m \u001b[0mprint\u001b[0m\u001b[0;34m(\u001b[0m\u001b[0;34m\"Programa que determina al mayor de 3 números\\n\"\u001b[0m\u001b[0;34m)\u001b[0m\u001b[0;34m\u001b[0m\u001b[0;34m\u001b[0m\u001b[0m\n\u001b[0;32m----> 3\u001b[0;31m \u001b[0ma\u001b[0m\u001b[0;34m=\u001b[0m\u001b[0mfloat\u001b[0m\u001b[0;34m(\u001b[0m\u001b[0minput\u001b[0m\u001b[0;34m(\u001b[0m\u001b[0;34m\"Ingrese el primer número \"\u001b[0m\u001b[0;34m)\u001b[0m\u001b[0;34m)\u001b[0m\u001b[0;34m\u001b[0m\u001b[0;34m\u001b[0m\u001b[0m\n\u001b[0m\u001b[1;32m      4\u001b[0m \u001b[0mb\u001b[0m\u001b[0;34m=\u001b[0m\u001b[0mfloat\u001b[0m\u001b[0;34m(\u001b[0m\u001b[0minput\u001b[0m\u001b[0;34m(\u001b[0m\u001b[0;34m\"Ingrese el segundo número \"\u001b[0m\u001b[0;34m)\u001b[0m\u001b[0;34m)\u001b[0m\u001b[0;34m\u001b[0m\u001b[0;34m\u001b[0m\u001b[0m\n\u001b[1;32m      5\u001b[0m \u001b[0mc\u001b[0m\u001b[0;34m=\u001b[0m\u001b[0mfloat\u001b[0m\u001b[0;34m(\u001b[0m\u001b[0minput\u001b[0m\u001b[0;34m(\u001b[0m\u001b[0;34m\"Ingrese el tercer número \"\u001b[0m\u001b[0;34m)\u001b[0m\u001b[0;34m)\u001b[0m\u001b[0;34m\u001b[0m\u001b[0;34m\u001b[0m\u001b[0m\n",
            "\u001b[0;32m/usr/local/lib/python3.12/dist-packages/ipykernel/kernelbase.py\u001b[0m in \u001b[0;36mraw_input\u001b[0;34m(self, prompt)\u001b[0m\n\u001b[1;32m   1175\u001b[0m                 \u001b[0;34m\"raw_input was called, but this frontend does not support input requests.\"\u001b[0m\u001b[0;34m\u001b[0m\u001b[0;34m\u001b[0m\u001b[0m\n\u001b[1;32m   1176\u001b[0m             )\n\u001b[0;32m-> 1177\u001b[0;31m         return self._input_request(\n\u001b[0m\u001b[1;32m   1178\u001b[0m             \u001b[0mstr\u001b[0m\u001b[0;34m(\u001b[0m\u001b[0mprompt\u001b[0m\u001b[0;34m)\u001b[0m\u001b[0;34m,\u001b[0m\u001b[0;34m\u001b[0m\u001b[0;34m\u001b[0m\u001b[0m\n\u001b[1;32m   1179\u001b[0m             \u001b[0mself\u001b[0m\u001b[0;34m.\u001b[0m\u001b[0m_parent_ident\u001b[0m\u001b[0;34m[\u001b[0m\u001b[0;34m\"shell\"\u001b[0m\u001b[0;34m]\u001b[0m\u001b[0;34m,\u001b[0m\u001b[0;34m\u001b[0m\u001b[0;34m\u001b[0m\u001b[0m\n",
            "\u001b[0;32m/usr/local/lib/python3.12/dist-packages/ipykernel/kernelbase.py\u001b[0m in \u001b[0;36m_input_request\u001b[0;34m(self, prompt, ident, parent, password)\u001b[0m\n\u001b[1;32m   1217\u001b[0m             \u001b[0;32mexcept\u001b[0m \u001b[0mKeyboardInterrupt\u001b[0m\u001b[0;34m:\u001b[0m\u001b[0;34m\u001b[0m\u001b[0;34m\u001b[0m\u001b[0m\n\u001b[1;32m   1218\u001b[0m                 \u001b[0;31m# re-raise KeyboardInterrupt, to truncate traceback\u001b[0m\u001b[0;34m\u001b[0m\u001b[0;34m\u001b[0m\u001b[0m\n\u001b[0;32m-> 1219\u001b[0;31m                 \u001b[0;32mraise\u001b[0m \u001b[0mKeyboardInterrupt\u001b[0m\u001b[0;34m(\u001b[0m\u001b[0;34m\"Interrupted by user\"\u001b[0m\u001b[0;34m)\u001b[0m \u001b[0;32mfrom\u001b[0m \u001b[0;32mNone\u001b[0m\u001b[0;34m\u001b[0m\u001b[0;34m\u001b[0m\u001b[0m\n\u001b[0m\u001b[1;32m   1220\u001b[0m             \u001b[0;32mexcept\u001b[0m \u001b[0mException\u001b[0m\u001b[0;34m:\u001b[0m\u001b[0;34m\u001b[0m\u001b[0;34m\u001b[0m\u001b[0m\n\u001b[1;32m   1221\u001b[0m                 \u001b[0mself\u001b[0m\u001b[0;34m.\u001b[0m\u001b[0mlog\u001b[0m\u001b[0;34m.\u001b[0m\u001b[0mwarning\u001b[0m\u001b[0;34m(\u001b[0m\u001b[0;34m\"Invalid Message:\"\u001b[0m\u001b[0;34m,\u001b[0m \u001b[0mexc_info\u001b[0m\u001b[0;34m=\u001b[0m\u001b[0;32mTrue\u001b[0m\u001b[0;34m)\u001b[0m\u001b[0;34m\u001b[0m\u001b[0;34m\u001b[0m\u001b[0m\n",
            "\u001b[0;31mKeyboardInterrupt\u001b[0m: Interrupted by user"
          ]
        }
      ]
    },
    {
      "cell_type": "code",
      "source": [
        "#Programa de rectas\n",
        "print(\"Programa de rectas\")\n",
        "m1x=float(input(\"Ingresa la pendiente de la recta 1:\"))\n",
        "b1=float(input(\"Ingresa el valor de b de la recta 1:\"))\n",
        "m2x=float(input(\"Ingresa la pendiente de la recta 2:\"))\n",
        "b2=float(input(\"Ingresa el valor de b de la recta 2:\"))\n",
        "y1=(m1x*x1)+b1\n",
        "y2=(m2x*x2)+b2\n",
        "\n",
        "print(\"\\nRectas\\n\")\n",
        "if m1x==m2x and b1==b2: print(\"Son la misma recta\")\n",
        "elif m1x==m2x and b1!=b2: print(\"Las rectas son paralelas\")\n",
        "elif m1x==(-1/m2x) or m2x==(-1/m1x): print(\"Las rectas son perpendiculares\")\n",
        "else: print(\"Las rectas se intersectan\")"
      ],
      "metadata": {
        "colab": {
          "base_uri": "https://localhost:8080/"
        },
        "id": "HxuielHPOmPJ",
        "outputId": "ca624c21-1bcf-4ce8-e2dd-023abc6f3f64"
      },
      "execution_count": 148,
      "outputs": [
        {
          "output_type": "stream",
          "name": "stdout",
          "text": [
            "Programa de rectas\n",
            "Ingresa la pendiente de la recta 1:-5\n",
            "Ingresa el valor de b de la recta 1:-5\n",
            "Ingresa la pendiente de la recta 2:-3\n",
            "Ingresa el valor de b de la recta 2:-3\n",
            "\n",
            "Rectas\n",
            "\n",
            "Las rectas se intersectan\n"
          ]
        }
      ]
    },
    {
      "cell_type": "code",
      "source": [
        "#P\n",
        "año=float(input(\"Ingresa tu año de nacimiento: \"))\n",
        "n=año%4\n",
        "if año<2025:\n",
        "  if n==0: print(\"Tu año de nacimiento es bisiesto\")\n",
        "  elif n==1 or n==2 or n==3: print(\"Tu año de nacimiento no es bisiesto\")\n",
        "elif año>2025: print(\"Error, no pudiste haber nacido en ese año\")"
      ],
      "metadata": {
        "colab": {
          "base_uri": "https://localhost:8080/",
          "height": 365
        },
        "id": "SHZnBCzqVvLz",
        "outputId": "c7ed9c58-3c39-4e53-a464-c781dae737ad"
      },
      "execution_count": 176,
      "outputs": [
        {
          "output_type": "error",
          "ename": "KeyboardInterrupt",
          "evalue": "Interrupted by user",
          "traceback": [
            "\u001b[0;31m---------------------------------------------------------------------------\u001b[0m",
            "\u001b[0;31mKeyboardInterrupt\u001b[0m                         Traceback (most recent call last)",
            "\u001b[0;32m/tmp/ipython-input-1980123143.py\u001b[0m in \u001b[0;36m<cell line: 0>\u001b[0;34m()\u001b[0m\n\u001b[1;32m      1\u001b[0m \u001b[0;31m#P\u001b[0m\u001b[0;34m\u001b[0m\u001b[0;34m\u001b[0m\u001b[0m\n\u001b[0;32m----> 2\u001b[0;31m \u001b[0maño\u001b[0m\u001b[0;34m=\u001b[0m\u001b[0mfloat\u001b[0m\u001b[0;34m(\u001b[0m\u001b[0minput\u001b[0m\u001b[0;34m(\u001b[0m\u001b[0;34m\"Ingresa tu año de nacimiento: \"\u001b[0m\u001b[0;34m)\u001b[0m\u001b[0;34m)\u001b[0m\u001b[0;34m\u001b[0m\u001b[0;34m\u001b[0m\u001b[0m\n\u001b[0m\u001b[1;32m      3\u001b[0m \u001b[0mn\u001b[0m\u001b[0;34m=\u001b[0m\u001b[0maño\u001b[0m\u001b[0;34m%\u001b[0m\u001b[0;36m4\u001b[0m\u001b[0;34m\u001b[0m\u001b[0;34m\u001b[0m\u001b[0m\n\u001b[1;32m      4\u001b[0m \u001b[0;32mif\u001b[0m \u001b[0maño\u001b[0m\u001b[0;34m<\u001b[0m\u001b[0;36m2025\u001b[0m\u001b[0;34m:\u001b[0m\u001b[0;34m\u001b[0m\u001b[0;34m\u001b[0m\u001b[0m\n\u001b[1;32m      5\u001b[0m   \u001b[0;32mif\u001b[0m \u001b[0mn\u001b[0m\u001b[0;34m==\u001b[0m\u001b[0;36m0\u001b[0m\u001b[0;34m:\u001b[0m \u001b[0mprint\u001b[0m\u001b[0;34m(\u001b[0m\u001b[0;34m\"Tu año de nacimiento es bisiesto\"\u001b[0m\u001b[0;34m)\u001b[0m\u001b[0;34m\u001b[0m\u001b[0;34m\u001b[0m\u001b[0m\n",
            "\u001b[0;32m/usr/local/lib/python3.12/dist-packages/ipykernel/kernelbase.py\u001b[0m in \u001b[0;36mraw_input\u001b[0;34m(self, prompt)\u001b[0m\n\u001b[1;32m   1175\u001b[0m                 \u001b[0;34m\"raw_input was called, but this frontend does not support input requests.\"\u001b[0m\u001b[0;34m\u001b[0m\u001b[0;34m\u001b[0m\u001b[0m\n\u001b[1;32m   1176\u001b[0m             )\n\u001b[0;32m-> 1177\u001b[0;31m         return self._input_request(\n\u001b[0m\u001b[1;32m   1178\u001b[0m             \u001b[0mstr\u001b[0m\u001b[0;34m(\u001b[0m\u001b[0mprompt\u001b[0m\u001b[0;34m)\u001b[0m\u001b[0;34m,\u001b[0m\u001b[0;34m\u001b[0m\u001b[0;34m\u001b[0m\u001b[0m\n\u001b[1;32m   1179\u001b[0m             \u001b[0mself\u001b[0m\u001b[0;34m.\u001b[0m\u001b[0m_parent_ident\u001b[0m\u001b[0;34m[\u001b[0m\u001b[0;34m\"shell\"\u001b[0m\u001b[0;34m]\u001b[0m\u001b[0;34m,\u001b[0m\u001b[0;34m\u001b[0m\u001b[0;34m\u001b[0m\u001b[0m\n",
            "\u001b[0;32m/usr/local/lib/python3.12/dist-packages/ipykernel/kernelbase.py\u001b[0m in \u001b[0;36m_input_request\u001b[0;34m(self, prompt, ident, parent, password)\u001b[0m\n\u001b[1;32m   1217\u001b[0m             \u001b[0;32mexcept\u001b[0m \u001b[0mKeyboardInterrupt\u001b[0m\u001b[0;34m:\u001b[0m\u001b[0;34m\u001b[0m\u001b[0;34m\u001b[0m\u001b[0m\n\u001b[1;32m   1218\u001b[0m                 \u001b[0;31m# re-raise KeyboardInterrupt, to truncate traceback\u001b[0m\u001b[0;34m\u001b[0m\u001b[0;34m\u001b[0m\u001b[0m\n\u001b[0;32m-> 1219\u001b[0;31m                 \u001b[0;32mraise\u001b[0m \u001b[0mKeyboardInterrupt\u001b[0m\u001b[0;34m(\u001b[0m\u001b[0;34m\"Interrupted by user\"\u001b[0m\u001b[0;34m)\u001b[0m \u001b[0;32mfrom\u001b[0m \u001b[0;32mNone\u001b[0m\u001b[0;34m\u001b[0m\u001b[0;34m\u001b[0m\u001b[0m\n\u001b[0m\u001b[1;32m   1220\u001b[0m             \u001b[0;32mexcept\u001b[0m \u001b[0mException\u001b[0m\u001b[0;34m:\u001b[0m\u001b[0;34m\u001b[0m\u001b[0;34m\u001b[0m\u001b[0m\n\u001b[1;32m   1221\u001b[0m                 \u001b[0mself\u001b[0m\u001b[0;34m.\u001b[0m\u001b[0mlog\u001b[0m\u001b[0;34m.\u001b[0m\u001b[0mwarning\u001b[0m\u001b[0;34m(\u001b[0m\u001b[0;34m\"Invalid Message:\"\u001b[0m\u001b[0;34m,\u001b[0m \u001b[0mexc_info\u001b[0m\u001b[0;34m=\u001b[0m\u001b[0;32mTrue\u001b[0m\u001b[0;34m)\u001b[0m\u001b[0;34m\u001b[0m\u001b[0;34m\u001b[0m\u001b[0m\n",
            "\u001b[0;31mKeyboardInterrupt\u001b[0m: Interrupted by user"
          ]
        }
      ]
    }
  ]
}