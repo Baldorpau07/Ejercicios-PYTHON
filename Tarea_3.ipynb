{
  "nbformat": 4,
  "nbformat_minor": 0,
  "metadata": {
    "colab": {
      "provenance": [],
      "authorship_tag": "ABX9TyMbLGsf4SKBWUnd+is8WDRQ",
      "include_colab_link": true
    },
    "kernelspec": {
      "name": "python3",
      "display_name": "Python 3"
    },
    "language_info": {
      "name": "python"
    }
  },
  "cells": [
    {
      "cell_type": "markdown",
      "metadata": {
        "id": "view-in-github",
        "colab_type": "text"
      },
      "source": [
        "<a href=\"https://colab.research.google.com/github/Baldorpau07/Ejercicios-PYTHON/blob/main/Tarea_3.ipynb\" target=\"_parent\"><img src=\"https://colab.research.google.com/assets/colab-badge.svg\" alt=\"Open In Colab\"/></a>"
      ]
    },
    {
      "cell_type": "code",
      "execution_count": null,
      "metadata": {
        "id": "PhB7yzk3KJyj"
      },
      "outputs": [],
      "source": [
        "#Ejercicio de divisas\n",
        "print(\"Conversión de divisas (dólares americanos):\")\n",
        "print(\"\\nTasas de cambio\")\n",
        "print(\"1 USB= 18.38 MXN (Pesos mexicanos)\")\n",
        "print(\"1 USB= 0.85 EUR (Euros)\")\n",
        "print(\"1 USB= 0.74 GBP (Libras esterlinas)\")\n",
        "print(\"1 USB= 7.12 CNY (Yuan chino)\")\n",
        "print(\"1 USB= 81.56 RUB (Rublos rusos)\")\n",
        "cantidad= float(input(\"\\nCantidad deseada a convertir (USD):\"))\n",
        "pesos=18.38*cantidad\n",
        "euros=0.85*cantidad\n",
        "libras=0.74*cantidad\n",
        "yuan=7.12*cantidad\n",
        "rublos=81.56*cantidad\n",
        "p=round(pesos, 2)\n",
        "e=round(euros, 2)\n",
        "g=round(libras, 2)\n",
        "c=round(yuan, 2)\n",
        "r=round(rublos,2)\n",
        "print(\"\\nConversiones:\")\n",
        "print(p,\"MXN\")\n",
        "print(e,\"EUR\")\n",
        "print(g,\"GBP\")\n",
        "print(c,\"CNY\")\n",
        "print(r,\"RUB\")"
      ]
    },
    {
      "cell_type": "code",
      "source": [
        "#Ejercicio de números y operaciones\n",
        "p_n= float(input(\"Ingrese el primer número:\"))\n",
        "s_n= float(input(\"Ingrese el segundo número:\"))\n",
        "suma=p_n+s_n\n",
        "resta=p_n-s_n\n",
        "multi=p_n*s_n\n",
        "div=p_n/s_n\n",
        "pot_1=p_n**2\n",
        "pot_2=s_n**2\n",
        "raiz1=p_n**0.5\n",
        "raiz2=s_n**0.5\n",
        "p=round(pot_1, 2)\n",
        "s=round(suma, 2)\n",
        "r=round(resta, 2)\n",
        "m=round(multi, 2)\n",
        "d=round(div, 2)\n",
        "p1=round(pot_1, 2)\n",
        "p2=round(pot_2, 2)\n",
        "r1=round(raiz1, 2)\n",
        "r2=round(raiz2, 2)\n",
        "print(\"\\nOperaciones:\")\n",
        "print(\"Suma:\",s)\n",
        "print(\"Resta:\",r)\n",
        "print(\"Multiplicación:\",m)\n",
        "print(\"División:\",d)\n",
        "print(\"Potencias:\",p1,\",\",p2)\n",
        "print(\"Raíces:\",r1,\",\",r2)"
      ],
      "metadata": {
        "id": "tnhGsCiiYilj"
      },
      "execution_count": null,
      "outputs": []
    },
    {
      "cell_type": "code",
      "source": [],
      "metadata": {
        "id": "_TuqACeqbph6"
      },
      "execution_count": null,
      "outputs": []
    }
  ]
}