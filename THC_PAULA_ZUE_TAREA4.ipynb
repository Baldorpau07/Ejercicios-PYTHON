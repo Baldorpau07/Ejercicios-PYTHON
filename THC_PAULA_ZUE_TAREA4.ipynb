{
  "nbformat": 4,
  "nbformat_minor": 0,
  "metadata": {
    "colab": {
      "provenance": [],
      "authorship_tag": "ABX9TyNI/XLZb+6wIIJAd3bZZlsX",
      "include_colab_link": true
    },
    "kernelspec": {
      "name": "python3",
      "display_name": "Python 3"
    },
    "language_info": {
      "name": "python"
    }
  },
  "cells": [
    {
      "cell_type": "markdown",
      "metadata": {
        "id": "view-in-github",
        "colab_type": "text"
      },
      "source": [
        "<a href=\"https://colab.research.google.com/github/Baldorpau07/Ejercicios-PYTHON/blob/main/THC_PAULA_ZUE_TAREA4.ipynb\" target=\"_parent\"><img src=\"https://colab.research.google.com/assets/colab-badge.svg\" alt=\"Open In Colab\"/></a>"
      ]
    },
    {
      "cell_type": "code",
      "source": [
        "#Programa del triángulo con funciones\n",
        "\"\"\"\n",
        "Variables locales (dentro de la función \"triangular\"):\n",
        "  area (operaciones)\n",
        "  semiperimetro (operaciones)\n",
        "  lado1, lado2, lado3 (parámetros)\n",
        "\n",
        "Variables locales (dentro de la función \"tipo_triangulo\"):\n",
        "  lado1, lado2, lado3 (parámetros)\n",
        "\n",
        "Variables globales:\n",
        "  resultado\n",
        "  semiperimetro, area\n",
        "  lado1\n",
        "  lado2\n",
        "  lado3\n",
        "  tipo_de_triangulo\n",
        "\"\"\"\n",
        "#Función 1\n",
        "print(\"Programa del triángulo\\n\")\n",
        "def triangular(lado1, lado2, lado3):\n",
        "  if lado1 <= 0 or lado2 <= 0 or lado3 <= 0:\n",
        "    print(\"No existe el triángulo (los lados deben ser positivos).\")\n",
        "    return None\n",
        "  elif lado1 + lado2 <= lado3 or lado1 + lado3 <= lado2 or lado2 + lado3 <= lado1:\n",
        "    print(\"No existe el triángulo, no se cumple la desigualdad triangular.\")\n",
        "    return None\n",
        "  else:\n",
        "    semiperimetro = (lado1 + lado2 + lado3) / 2\n",
        "    area = (semiperimetro * (semiperimetro - lado1) * (semiperimetro - lado2) * (semiperimetro - lado3)) ** 0.5\n",
        "    return semiperimetro, area\n",
        "\n",
        "resultado=None\n",
        "while resultado is None:\n",
        "  lado1 = float(input(\"Ingrese el valor del primer lado: \"))\n",
        "  lado2 = float(input(\"Ingrese el valor del segundo lado: \"))\n",
        "  lado3 = float(input(\"Ingrese el valor del tercer lado: \"))\n",
        "  resultado= triangular(lado1, lado2, lado3)\n",
        "semiperimetro, area = resultado\n",
        "print(\"\\nÁrea de un triángulo utilizando la fórmula de Herón\")\n",
        "print(\"Semiperímetro=\", semiperimetro, \"Área=\", area)\n",
        "\n",
        "#Función 2\n",
        "print(\"\\nTipo de triángulo\")\n",
        "def tipo_triangulo(lado1, lado2, lado3):\n",
        "  if lado1==lado2==lado3:\n",
        "    return \"Equilátero\"\n",
        "  elif lado1==lado2 or lado1==lado3 or lado2==lado3:\n",
        "    return \"Isósceles\"\n",
        "  else:\n",
        "    return \"Escaleno\"\n",
        "tipo_de_triangulo=tipo_triangulo(lado1, lado2, lado3)\n",
        "print(tipo_de_triangulo)\n"
      ],
      "metadata": {
        "colab": {
          "base_uri": "https://localhost:8080/"
        },
        "id": "fv6laQuyLmiu",
        "outputId": "530fb388-cf8d-4688-91b1-582697856d32"
      },
      "execution_count": 101,
      "outputs": [
        {
          "output_type": "stream",
          "name": "stdout",
          "text": [
            "Programa del triángulo\n",
            "\n",
            "Ingrese el valor del primer lado: 3\n",
            "Ingrese el valor del segundo lado: 3\n",
            "Ingrese el valor del tercer lado: 3\n",
            "\n",
            "Área de un triángulo utilizando la fórmula de Herón\n",
            "Semiperímetro= 4.5 Área= 3.897114317029974\n",
            "\n",
            "Tipo de triángulo\n",
            "Equilátero\n"
          ]
        }
      ]
    }
  ]
}