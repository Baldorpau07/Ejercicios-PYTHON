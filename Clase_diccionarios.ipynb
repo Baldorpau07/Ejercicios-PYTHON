{
  "nbformat": 4,
  "nbformat_minor": 0,
  "metadata": {
    "colab": {
      "provenance": [],
      "authorship_tag": "ABX9TyNQQd3LhVI0iWYRbCcSc45p",
      "include_colab_link": true
    },
    "kernelspec": {
      "name": "python3",
      "display_name": "Python 3"
    },
    "language_info": {
      "name": "python"
    }
  },
  "cells": [
    {
      "cell_type": "markdown",
      "metadata": {
        "id": "view-in-github",
        "colab_type": "text"
      },
      "source": [
        "<a href=\"https://colab.research.google.com/github/Baldorpau07/Ejercicios-PYTHON/blob/main/Clase_diccionarios.ipynb\" target=\"_parent\"><img src=\"https://colab.research.google.com/assets/colab-badge.svg\" alt=\"Open In Colab\"/></a>"
      ]
    },
    {
      "cell_type": "code",
      "execution_count": 3,
      "metadata": {
        "colab": {
          "base_uri": "https://localhost:8080/"
        },
        "id": "ydOkJ4Tc7POW",
        "outputId": "86cf2176-17a2-443b-bf12-327b15d7abf9"
      },
      "outputs": [
        {
          "output_type": "stream",
          "name": "stdout",
          "text": [
            "(1, 2, 3, 'Hola', True)\n",
            "<class 'tuple'>\n",
            "1\n",
            "Hola\n"
          ]
        }
      ],
      "source": [
        "mi_tupla = (1, 2, 3, \"Hola\", True)\n",
        "print(mi_tupla)\n",
        "print(type(mi_tupla))\n",
        "print(mi_tupla[0])  # Imprime: 1\n",
        "print(mi_tupla[3])"
      ]
    },
    {
      "cell_type": "code",
      "source": [
        "mi_tupla = (1, 2, 3, 4, 5)\n",
        "\n",
        "elemento_a_borrar = 3\n",
        "nueva_tupla = tuple(elemento for elemento in mi_tupla if elemento != elemento_a_borrar)"
      ],
      "metadata": {
        "id": "rSnYflBX8Ufi"
      },
      "execution_count": 5,
      "outputs": []
    },
    {
      "cell_type": "code",
      "source": [
        "diccionario={}\n",
        "alumnos={\"Ana\":9.5,\"Luis\":8.2}\n",
        "ana= alumnos[\"Ana\"]\n",
        "alumnos[\"Eva\"]=9\n",
        "alumnos[\"Luis\"]=8.5\n",
        "luis= alumnos[\"Luis\"]\n",
        "eva= alumnos.get(\"Eva\",\"np\")\n",
        "print(f\"Ana:{ana}\")\n",
        "print(f\"Eva:{eva}\")\n",
        "print(f\"Luis:{luis}\")"
      ],
      "metadata": {
        "colab": {
          "base_uri": "https://localhost:8080/"
        },
        "id": "cyYGt4HZ8i-n",
        "outputId": "649db39a-2eff-4eef-cf47-448f874500ae"
      },
      "execution_count": 11,
      "outputs": [
        {
          "output_type": "stream",
          "name": "stdout",
          "text": [
            "Ana:9.5\n",
            "Eva:9\n",
            "Luis:8.5\n"
          ]
        }
      ]
    },
    {
      "cell_type": "code",
      "source": [
        "precios_ropa={\"Sueter\":400,\"Blusa\":150,\"Vestido\":300, \"Pantalones\":300, \"Medias\":100}\n",
        "precios_ropa[\"Sueter\"]=300\n",
        "sueter=precios_ropa[\"Sueter\"]\n",
        "print(f\"Sueter:{sueter}\")\n",
        "precios_ropa[\"Gorra\"]=100\n",
        "print(precios_ropa)\n",
        "falda=precios_ropa.get(\"falda\",\"Artículo no encontrado\")\n",
        "print(f\"falda:{falda}\")"
      ],
      "metadata": {
        "colab": {
          "base_uri": "https://localhost:8080/"
        },
        "id": "JmnFC5V1_aD8",
        "outputId": "0c251778-217a-420e-ed1a-5da676077374"
      },
      "execution_count": 16,
      "outputs": [
        {
          "output_type": "stream",
          "name": "stdout",
          "text": [
            "Sueter:300\n",
            "{'Sueter': 300, 'Blusa': 150, 'Vestido': 300, 'Pantalones': 300, 'Medias': 100, 'Gorra': 100}\n",
            "falda:Artículo no encontrado\n"
          ]
        }
      ]
    },
    {
      "cell_type": "code",
      "source": [
        "ropa={\"pantalones\":100, \"tenis\":900, \"gorra\":50}\n",
        "for prenda in ropa:\n",
        "  print(prenda)\n",
        "for prenda, precio in ropa.items():\n",
        "  print(f\"{prenda}: {precio}\")\n",
        "#se usa items para acceder al valor, en este caso el precio\n",
        "#Al imprimir el primer valor es la variable iterada y el segunda su valor, el precio\n"
      ],
      "metadata": {
        "colab": {
          "base_uri": "https://localhost:8080/"
        },
        "id": "1rHVdRZxBbOW",
        "outputId": "c23e064e-41a6-40a2-ef72-b3a54b4ba900"
      },
      "execution_count": 18,
      "outputs": [
        {
          "output_type": "stream",
          "name": "stdout",
          "text": [
            "pantalones\n",
            "tenis\n",
            "gorra\n",
            "pantalones: 100\n",
            "tenis: 900\n",
            "gorra: 50\n"
          ]
        }
      ]
    },
    {
      "cell_type": "code",
      "source": [
        "ventas={\"lun\":10, \"mar\":12, \"mie\":5, \"jue\":8}\n",
        "#Imprimir \"Dia: X, unidades: Y\"\n",
        "\"\"\"for dia in ventas:\n",
        "  print(dia)\"\"\"\n",
        "for dia, precio in ventas.items():\n",
        "  print(f\"{dia}:{precio}\")\n",
        "#sum, .values para acceder"
      ],
      "metadata": {
        "colab": {
          "base_uri": "https://localhost:8080/"
        },
        "id": "WZW2nTD2CfzB",
        "outputId": "0c59bb02-2e08-4b57-d7dd-fca5aafcf2d2"
      },
      "execution_count": 21,
      "outputs": [
        {
          "output_type": "stream",
          "name": "stdout",
          "text": [
            "lun:10\n",
            "mar:12\n",
            "mie:5\n",
            "jue:8\n"
          ]
        }
      ]
    },
    {
      "cell_type": "code",
      "source": [
        "texto=\"JAAJGAJAGJAJA que lokoooç\"\n",
        "cont={}\n",
        "for palabra in texto.split():\n",
        "  #se usa split para separar por palabras, de otra manera se separa por letras\n",
        "  if palabra in cont:\n",
        "    cont[palabra]+=1\n",
        "  else:\n",
        "    cont[palabra]=1\n",
        "print(cont)"
      ],
      "metadata": {
        "colab": {
          "base_uri": "https://localhost:8080/"
        },
        "id": "i3E4JXhcEUbW",
        "outputId": "9caa41c8-868f-4c78-8c2a-a70c35e0eeff"
      },
      "execution_count": 23,
      "outputs": [
        {
          "output_type": "stream",
          "name": "stdout",
          "text": [
            "{'JAAJGAJAGJAJA': 1, 'que': 1, 'lokooo': 1}\n"
          ]
        }
      ]
    },
    {
      "cell_type": "code",
      "source": [
        "#diccionario anidado\n",
        "alumnos={\n",
        "    \"Ana\":{\"mat\":9.5, \"fis\":8.7},\n",
        "    \"Luis\":{\"mat\":8.3, \"fis\":7.9}\n",
        "}\n",
        "prom_ana= sum(alumnos[\"Ana\"].values())/len(alumnos[\"Ana\"])\n",
        "#accede a Ana en el diccionario, suma los valores y los divide entre 2 porque es la cantidad de valores (promedio)\n",
        "print(prom_ana)"
      ],
      "metadata": {
        "colab": {
          "base_uri": "https://localhost:8080/"
        },
        "id": "G1pY4-kfFGx2",
        "outputId": "c292c11d-ccdb-4a2c-998b-355ee4ca7525"
      },
      "execution_count": 27,
      "outputs": [
        {
          "output_type": "stream",
          "name": "stdout",
          "text": [
            "9.1\n"
          ]
        }
      ]
    },
    {
      "cell_type": "code",
      "source": [
        "progra={\"Ana\":9,\"Luis\":6,\"Maria\":8,\"Carlos\":10,\"Eva\":9.5}\n",
        "mate={\"Luis\":7.7,\"Carlos\":8.5,\"Sofía\":6.7,\"María\":10}\n",
        "fisica={\"Ana\":9.1,\"Cralos\":8.3, \"Maria\":8.8}\n",
        "#Buscar la calificación promediada en cada claase\n",
        "prom_ana= (progra[\"Ana\"] + mate.get(\"Ana\", 0) + fisica[\"Ana\"])/3\n",
        "print(prom_ana)\n",
        "prom_progra= sum(progra.values())/len(progra)\n",
        "print(prom_progra)\n",
        "prom_mate= sum(mate.values())/len(mate)\n",
        "print(prom_mate)\n",
        "prom_fisica= sum(fisica.values())/len(fisica)\n",
        "print(prom_fisica)"
      ],
      "metadata": {
        "colab": {
          "base_uri": "https://localhost:8080/"
        },
        "id": "OsMj9h_8GQvg",
        "outputId": "5a04577c-dcad-41b7-a663-cdb354cbad0d"
      },
      "execution_count": 31,
      "outputs": [
        {
          "output_type": "stream",
          "name": "stdout",
          "text": [
            "6.033333333333334\n",
            "8.5\n",
            "8.225\n",
            "8.733333333333334\n"
          ]
        }
      ]
    },
    {
      "cell_type": "code",
      "source": [
        "#Conjuntos\n",
        "set= {1,2,3,4,5}\n",
        "print(set)\n",
        "#usar set\n",
        "baldor={3,42,1}\n",
        "print(baldor)\n",
        "print(len(set))\n",
        "print(len(baldor))\n",
        "set.add(67)\n",
        "#agrega un vuelo valor\n",
        "print(set)\n",
        "set.discard(4)\n",
        "print(set)\n",
        "set.remove(5)\n",
        "print(set)\n",
        "set.pop()\n",
        "print(set)\n",
        "#pop elimina un elemento aleatoria\n",
        "#discard es para eliminar al igual que remove, la diferencia es que si lo que estoy quitando con remove y no está marca error, con discard no marca error.\n",
        "#no usar conjuntos si nos importa el orden o las repes\n",
        "\n",
        "\"\"\"\n",
        "Recordatorio:\n",
        "Lista [], permite duplicados, es mutable, se accese por el índice, importa el orden\n",
        "Tupla (), permite duplicados, no es mutable, se accede por el índice\n",
        "Diccionario {}, no permite duplicados, quiero acceder por clase\n",
        "Conjunto {valor}, los duplicados se eliminan y queda uno solo, solo importa la pertenencia.\n",
        "\"\"\""
      ],
      "metadata": {
        "colab": {
          "base_uri": "https://localhost:8080/",
          "height": 214
        },
        "id": "sUHiTsayI4Ss",
        "outputId": "337a8859-255c-4bbe-dcf1-610a79367d31"
      },
      "execution_count": 40,
      "outputs": [
        {
          "output_type": "stream",
          "name": "stdout",
          "text": [
            "{1, 2, 3, 4, 5}\n",
            "{1, 42, 3}\n",
            "5\n",
            "3\n",
            "{1, 2, 3, 4, 5, 67}\n",
            "{1, 2, 3, 5, 67}\n",
            "{1, 2, 3, 67}\n",
            "{2, 3, 67}\n"
          ]
        },
        {
          "output_type": "execute_result",
          "data": {
            "text/plain": [
              "'\\nRecordatorio:\\nLista [], permite duplicados, es mutable, se accese por el índice, importa el orden\\nTupla (), permite duplicados, no es mutable, se accede por el índice\\nDiccionario {}, no permite duplicados, quiero acceder por clase\\nConjunto {valor}, los duplicados se eliminan y queda uno solo, solo importa la pertenencia.\\n'"
            ],
            "application/vnd.google.colaboratory.intrinsic+json": {
              "type": "string"
            }
          },
          "metadata": {},
          "execution_count": 40
        }
      ]
    },
    {
      "cell_type": "code",
      "source": [
        "#hacer un conjunto, agregar elemento, eliminar otro e imprimir\n",
        "set={\"Mates discretas\",\"Álgebra superior 2\", \"Cálculo I\", \"THC\"}\n",
        "set.discard(\"THC\")\n",
        "print(set)\n",
        "set.add(\"Geo\")\n",
        "print(set)"
      ],
      "metadata": {
        "colab": {
          "base_uri": "https://localhost:8080/"
        },
        "id": "SXiRh-I6LIXV",
        "outputId": "ce0f1172-0e05-46a9-854b-6201bc7c9b24"
      },
      "execution_count": 44,
      "outputs": [
        {
          "output_type": "stream",
          "name": "stdout",
          "text": [
            "{'Cálculo I', 'Álgebra superior 2', 'Mates discretas'}\n",
            "{'Geo', 'Álgebra superior 2', 'Cálculo I', 'Mates discretas'}\n"
          ]
        }
      ]
    },
    {
      "cell_type": "code",
      "source": [
        "A={1,2,3,4,5}\n",
        "B={3,4,5,7}\n",
        "print(A|B) #unión \"o\"\n",
        "print(A&B) #intersección\n",
        "print(A-B) #diferencia\n",
        "print(B-A) #diferencia al revés\n",
        "print(A^B) #diferenvia simétrica (triangulito)"
      ],
      "metadata": {
        "colab": {
          "base_uri": "https://localhost:8080/"
        },
        "id": "-kwH40_AL3M_",
        "outputId": "8ded9566-34ba-4f58-bbd7-c84d4b6365df"
      },
      "execution_count": 49,
      "outputs": [
        {
          "output_type": "stream",
          "name": "stdout",
          "text": [
            "{1, 2, 3, 4, 5, 7}\n",
            "{3, 4, 5}\n",
            "{1, 2}\n",
            "{7}\n",
            "{1, 2, 7}\n"
          ]
        }
      ]
    },
    {
      "cell_type": "code",
      "source": [
        "print(A.union(B))\n",
        "print(A.intersection(B))\n",
        "print(A.difference(B))\n",
        "print(B.difference(A))\n",
        "print(A.symmetric_difference(B))\n",
        "#es lo mismo que lo de arriba"
      ],
      "metadata": {
        "colab": {
          "base_uri": "https://localhost:8080/"
        },
        "id": "GXfNmYGfMjJ9",
        "outputId": "247e399d-7651-4ad3-9475-a0a00854c06b"
      },
      "execution_count": 52,
      "outputs": [
        {
          "output_type": "stream",
          "name": "stdout",
          "text": [
            "{1, 2, 3, 4, 5, 7}\n",
            "{3, 4, 5}\n",
            "{1, 2}\n",
            "{7}\n",
            "{1, 2, 7}\n"
          ]
        }
      ]
    },
    {
      "cell_type": "code",
      "source": [
        "arte={\"Carlos\", \"Miguel\", \"Toñio\"}\n",
        "fut={\"Carlos\", \"Miguel\", \"Toñio\", \"Ana\"}\n",
        "print(arte&fut)\n",
        "print(arte-fut)\n",
        "print(arte|fut)\n",
        "if len(arte-fut) == 0: print(\"No hay ninguno\")"
      ],
      "metadata": {
        "colab": {
          "base_uri": "https://localhost:8080/"
        },
        "id": "9a2HEVlSM_gu",
        "outputId": "ae89738d-498d-460b-9dab-fd6e485650cd"
      },
      "execution_count": 56,
      "outputs": [
        {
          "output_type": "stream",
          "name": "stdout",
          "text": [
            "{'Toñio', 'Miguel', 'Carlos'}\n",
            "set()\n",
            "{'Toñio', 'Miguel', 'Carlos', 'Ana'}\n",
            "No hay ninguno\n"
          ]
        }
      ]
    },
    {
      "cell_type": "code",
      "source": [
        "A={1,2,3,4,5}\n",
        "B={3,4,1,2,5,7}\n",
        "print(A.issubset(B))\n",
        "#buleano\n",
        "print(A.isdisjoint(B))\n",
        "#conjuntos ajenos\n",
        "print(A.issuperset(B))\n",
        "#si todos los elementos de B están en A (contención)\n"
      ],
      "metadata": {
        "colab": {
          "base_uri": "https://localhost:8080/"
        },
        "id": "g2iGdNjNOc6j",
        "outputId": "0ddd3b66-609b-4d6e-cf82-0fb47db0defe"
      },
      "execution_count": 63,
      "outputs": [
        {
          "output_type": "stream",
          "name": "stdout",
          "text": [
            "True\n",
            "False\n",
            "False\n"
          ]
        }
      ]
    },
    {
      "cell_type": "code",
      "source": [
        "lista =[1,1,2,2,3,4,3,4,5]\n",
        "print(lista)\n",
        "my_set=list(set(lista))\n",
        "print(my_set)\n",
        "#Error de clase"
      ],
      "metadata": {
        "colab": {
          "base_uri": "https://localhost:8080/",
          "height": 216
        },
        "id": "MCUgJQ_kPJmg",
        "outputId": "b62573f2-800f-47c4-e6ab-503ee88a8009"
      },
      "execution_count": 78,
      "outputs": [
        {
          "output_type": "stream",
          "name": "stdout",
          "text": [
            "[1, 1, 2, 2, 3, 4, 3, 4, 5]\n"
          ]
        },
        {
          "output_type": "error",
          "ename": "TypeError",
          "evalue": "'list' object is not callable",
          "traceback": [
            "\u001b[0;31m---------------------------------------------------------------------------\u001b[0m",
            "\u001b[0;31mTypeError\u001b[0m                                 Traceback (most recent call last)",
            "\u001b[0;32m/tmp/ipython-input-1185667935.py\u001b[0m in \u001b[0;36m<cell line: 0>\u001b[0;34m()\u001b[0m\n\u001b[1;32m      1\u001b[0m \u001b[0mlista\u001b[0m \u001b[0;34m=\u001b[0m\u001b[0;34m[\u001b[0m\u001b[0;36m1\u001b[0m\u001b[0;34m,\u001b[0m\u001b[0;36m1\u001b[0m\u001b[0;34m,\u001b[0m\u001b[0;36m2\u001b[0m\u001b[0;34m,\u001b[0m\u001b[0;36m2\u001b[0m\u001b[0;34m,\u001b[0m\u001b[0;36m3\u001b[0m\u001b[0;34m,\u001b[0m\u001b[0;36m4\u001b[0m\u001b[0;34m,\u001b[0m\u001b[0;36m3\u001b[0m\u001b[0;34m,\u001b[0m\u001b[0;36m4\u001b[0m\u001b[0;34m,\u001b[0m\u001b[0;36m5\u001b[0m\u001b[0;34m]\u001b[0m\u001b[0;34m\u001b[0m\u001b[0;34m\u001b[0m\u001b[0m\n\u001b[1;32m      2\u001b[0m \u001b[0mprint\u001b[0m\u001b[0;34m(\u001b[0m\u001b[0mlista\u001b[0m\u001b[0;34m)\u001b[0m\u001b[0;34m\u001b[0m\u001b[0;34m\u001b[0m\u001b[0m\n\u001b[0;32m----> 3\u001b[0;31m \u001b[0mmy_set\u001b[0m\u001b[0;34m=\u001b[0m\u001b[0mlist\u001b[0m\u001b[0;34m(\u001b[0m\u001b[0mset\u001b[0m\u001b[0;34m(\u001b[0m\u001b[0mlista\u001b[0m\u001b[0;34m)\u001b[0m\u001b[0;34m)\u001b[0m\u001b[0;34m\u001b[0m\u001b[0;34m\u001b[0m\u001b[0m\n\u001b[0m\u001b[1;32m      4\u001b[0m \u001b[0mprint\u001b[0m\u001b[0;34m(\u001b[0m\u001b[0mmy_set\u001b[0m\u001b[0;34m)\u001b[0m\u001b[0;34m\u001b[0m\u001b[0;34m\u001b[0m\u001b[0m\n",
            "\u001b[0;31mTypeError\u001b[0m: 'list' object is not callable"
          ]
        }
      ]
    },
    {
      "cell_type": "code",
      "source": [
        "#Verifiquen si {2,3} es subconjunto de {1,2,3,4} y si son disjuntos con {5,6}\n",
        "A={2,3}\n",
        "B={1,2,3,4}\n",
        "C={5,6}\n",
        "print(A.issubset(B))\n",
        "print(A.isdisjoint(C))\n",
        "print(B.isdisjoint(C))\n",
        "if A.isdisjoint(C) and B.isdisjoint(C):\n",
        "  print(\"A y B son ajenos a C\")\n",
        "else:\n",
        "  print(\"A y B no son ajenos a C\")"
      ],
      "metadata": {
        "colab": {
          "base_uri": "https://localhost:8080/"
        },
        "id": "7WL9C7RaQUUc",
        "outputId": "c3c8408f-cb9c-4b0f-b5c8-49ebe2912cca"
      },
      "execution_count": 86,
      "outputs": [
        {
          "output_type": "stream",
          "name": "stdout",
          "text": [
            "True\n",
            "True\n",
            "True\n",
            "A y B son ajenos a C\n"
          ]
        }
      ]
    }
  ]
}