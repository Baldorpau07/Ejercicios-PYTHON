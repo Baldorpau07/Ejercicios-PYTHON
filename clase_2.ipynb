{
  "nbformat": 4,
  "nbformat_minor": 0,
  "metadata": {
    "colab": {
      "provenance": [],
      "authorship_tag": "ABX9TyP2eCM78UYdajYIV5jNpCoL",
      "include_colab_link": true
    },
    "kernelspec": {
      "name": "python3",
      "display_name": "Python 3"
    },
    "language_info": {
      "name": "python"
    }
  },
  "cells": [
    {
      "cell_type": "markdown",
      "metadata": {
        "id": "view-in-github",
        "colab_type": "text"
      },
      "source": [
        "<a href=\"https://colab.research.google.com/github/Baldorpau07/Ejercicios-PYTHON/blob/main/clase_2.ipynb\" target=\"_parent\"><img src=\"https://colab.research.google.com/assets/colab-badge.svg\" alt=\"Open In Colab\"/></a>"
      ]
    },
    {
      "cell_type": "code",
      "execution_count": 34,
      "metadata": {
        "colab": {
          "base_uri": "https://localhost:8080/"
        },
        "id": "4kwNQCHxKF4I",
        "outputId": "58b823d1-9a3d-46b3-8141-bba62178a2ca"
      },
      "outputs": [
        {
          "output_type": "stream",
          "name": "stdout",
          "text": [
            "Área de la superficie del elipsoide: 510065621724078.94 metros cuadrados\n",
            "Área de esfera: 510064471909788.25 metros cuadrados\n",
            "Comparación: 0.00022542477707103626\n"
          ]
        }
      ],
      "source": [
        "import math\n",
        "a=6378137.0\n",
        "c=6356752.314245\n",
        "r = 6371000\n",
        "e=1-(c**2/a**2)\n",
        "raiz_e=math.sqrt(e)\n",
        "s= 2*math.pi*a**2*(1+((1-e)/raiz_e)*math.atanh(raiz_e))\n",
        "print(\"Área de la superficie del elipsoide:\", s, \"metros cuadrados\")\n",
        "w=4*math.pi*r**2\n",
        "print(\"Área de esfera:\", w, \"metros cuadrados\")\n",
        "\n",
        "b=(s-w)/s*100\n",
        "print(\"Comparación:\",b)"
      ]
    }
  ]
}