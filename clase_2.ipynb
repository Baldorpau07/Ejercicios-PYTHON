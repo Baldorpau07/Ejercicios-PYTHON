{
  "nbformat": 4,
  "nbformat_minor": 0,
  "metadata": {
    "colab": {
      "provenance": [],
      "authorship_tag": "ABX9TyOA/UUO+PHre2TBJHKsnpKH",
      "include_colab_link": true
    },
    "kernelspec": {
      "name": "python3",
      "display_name": "Python 3"
    },
    "language_info": {
      "name": "python"
    }
  },
  "cells": [
    {
      "cell_type": "markdown",
      "metadata": {
        "id": "view-in-github",
        "colab_type": "text"
      },
      "source": [
        "<a href=\"https://colab.research.google.com/github/Baldorpau07/Ejercicios-PYTHON/blob/main/clase_2.ipynb\" target=\"_parent\"><img src=\"https://colab.research.google.com/assets/colab-badge.svg\" alt=\"Open In Colab\"/></a>"
      ]
    },
    {
      "cell_type": "code",
      "execution_count": 36,
      "metadata": {
        "colab": {
          "base_uri": "https://localhost:8080/"
        },
        "id": "4kwNQCHxKF4I",
        "outputId": "3a1982f6-aacf-4e9f-e88e-d05a56762551"
      },
      "outputs": [
        {
          "output_type": "stream",
          "name": "stdout",
          "text": [
            "Ejercicio de clase\n",
            "Área de la superficie del elipsoide: 510065621724078.94 metros cuadrados\n",
            "Área de esfera: 510064471909788.25 metros cuadrados\n",
            "Comparación: 0.00022542477707103626\n"
          ]
        }
      ],
      "source": [
        "import math\n",
        "g=\"Ejercicio de clase\"\n",
        "print(g)\n",
        "a=6378137.0\n",
        "c=6356752.314245\n",
        "r = 6371000\n",
        "e=1-(c**2/a**2)\n",
        "raiz_e=math.sqrt(e)\n",
        "s= 2*math.pi*a**2*(1+((1-e)/raiz_e)*math.atanh(raiz_e))\n",
        "print(\"Área de la superficie del elipsoide:\", s, \"metros cuadrados\")\n",
        "w=4*math.pi*r**2\n",
        "print(\"Área de esfera:\", w, \"metros cuadrados\")\n",
        "\n",
        "b=(s-w)/s*100\n",
        "print(\"Comparación:\",b)"
      ]
    },
    {
      "cell_type": "code",
      "source": [
        "a = 33\n",
        "b = 31\n",
        "if b > a:\n",
        "  print(\"b mayor que a\")\n",
        "elif a==b:\n",
        "  print(\"a y b son iguales\")\n",
        "else:\n",
        "  print(\"a menor que b\")"
      ],
      "metadata": {
        "colab": {
          "base_uri": "https://localhost:8080/"
        },
        "id": "RhlPv0oVTQ-5",
        "outputId": "90c13eba-c557-4a4b-bf45-c177530a6fb5"
      },
      "execution_count": 57,
      "outputs": [
        {
          "output_type": "stream",
          "name": "stdout",
          "text": [
            "a menor que b\n"
          ]
        }
      ]
    },
    {
      "cell_type": "code",
      "source": [
        "a = 33\n",
        "b = 31\n",
        "if b > a:\n",
        "  print(\"b mayor que a\")\n",
        "else:\n",
        "  print(\"a menor que b\")"
      ],
      "metadata": {
        "colab": {
          "base_uri": "https://localhost:8080/"
        },
        "id": "TLUNIz5QR1Hb",
        "outputId": "99379c8b-c7a8-4901-ec95-a4fd484d6fe1"
      },
      "execution_count": 58,
      "outputs": [
        {
          "output_type": "stream",
          "name": "stdout",
          "text": [
            "a menor que b\n"
          ]
        }
      ]
    },
    {
      "cell_type": "code",
      "source": [
        "a=55\n",
        "b=100\n",
        "print(\"a es menor que b\") if a<b else print(\"a es mayor que b\")\n",
        "a = 330\n",
        "b = 330\n",
        "print(\"A\") if a > b else print(\"=\") if a == b else print(\"B\")"
      ],
      "metadata": {
        "colab": {
          "base_uri": "https://localhost:8080/"
        },
        "id": "srDGAR0IUOf5",
        "outputId": "f5b5493f-77dd-4e87-f6a4-31a4554a0f3b"
      },
      "execution_count": 69,
      "outputs": [
        {
          "output_type": "stream",
          "name": "stdout",
          "text": [
            "a es menor que b\n",
            "=\n"
          ]
        }
      ]
    },
    {
      "cell_type": "code",
      "source": [
        "a=7\n",
        "b=9\n",
        "c=23\n",
        "if a<b and b<c:\n",
        "  print(\"Las dos condiciones son verdaderas\")\n",
        "else:\n",
        "  print(\"No se cumple alguna\")\n",
        "\n",
        "if a<b or b<c:\n",
        "  print(\"Al menos una es verdadera\")\n",
        "\n",
        "if not a>b:\n",
        "  print(\"a no es mayor que b\")"
      ],
      "metadata": {
        "colab": {
          "base_uri": "https://localhost:8080/"
        },
        "id": "pEsXj2RHVcXX",
        "outputId": "b6c3aa88-5301-4a46-a511-130c20c02e94"
      },
      "execution_count": 82,
      "outputs": [
        {
          "output_type": "stream",
          "name": "stdout",
          "text": [
            "Las dos condiciones son verdaderas\n",
            "Al menos una es verdadera\n",
            "a no es mayor que b\n"
          ]
        }
      ]
    },
    {
      "cell_type": "code",
      "source": [
        "x=600\n",
        "if x>15:\n",
        "  print(\"es mayor que 15\")\n",
        "  if x<100:\n",
        "    print(\"es menor que 100\")\n",
        "  else:\n",
        "    print(\"es mayor que 100\")"
      ],
      "metadata": {
        "colab": {
          "base_uri": "https://localhost:8080/"
        },
        "id": "uLbqhSFzWYnR",
        "outputId": "4275349a-9e8b-4c26-9b87-df56a473db02"
      },
      "execution_count": 85,
      "outputs": [
        {
          "output_type": "stream",
          "name": "stdout",
          "text": [
            "es mayor que 15\n",
            "es mayor que 100\n"
          ]
        }
      ]
    },
    {
      "cell_type": "code",
      "source": [
        "x= int(input(\"Ingrese su edad: \"))\n",
        "if 0<=x<=10: print(\"Niño/a\")\n",
        "elif 12<=x<=17: print(\"Adolescente\")\n",
        "elif 18<=x<=29: print(\"Joven\")\n",
        "elif 30<=x<=64: print(\"Adulto\")\n",
        "elif x>65: print(\"Adulto mayor\")\n",
        "else: print(\"Ingrese una edad váida\")"
      ],
      "metadata": {
        "id": "9rgpTpFEXF-E"
      },
      "execution_count": null,
      "outputs": []
    }
  ]
}