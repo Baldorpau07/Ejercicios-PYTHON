{
  "nbformat": 4,
  "nbformat_minor": 0,
  "metadata": {
    "colab": {
      "provenance": [],
      "authorship_tag": "ABX9TyN3l/nV9EC3SPGCJYBo3nWl",
      "include_colab_link": true
    },
    "kernelspec": {
      "name": "python3",
      "display_name": "Python 3"
    },
    "language_info": {
      "name": "python"
    }
  },
  "cells": [
    {
      "cell_type": "markdown",
      "metadata": {
        "id": "view-in-github",
        "colab_type": "text"
      },
      "source": [
        "<a href=\"https://colab.research.google.com/github/Baldorpau07/Ejercicios-PYTHON/blob/main/Tarea3_.ipynb\" target=\"_parent\"><img src=\"https://colab.research.google.com/assets/colab-badge.svg\" alt=\"Open In Colab\"/></a>"
      ]
    },
    {
      "cell_type": "code",
      "execution_count": null,
      "metadata": {
        "id": "PhB7yzk3KJyj",
        "colab": {
          "base_uri": "https://localhost:8080/"
        },
        "outputId": "885cf6b4-7c9a-4c7f-9608-88a15bdc3ed0"
      },
      "outputs": [
        {
          "output_type": "stream",
          "name": "stdout",
          "text": [
            "Conversión de divisas (dólares americanos):\n",
            "\n",
            "Tasas de cambio\n",
            "1 USB= 18.38 MXN (Pesos mexicanos)\n",
            "1 USB= 0.85 EUR (Euros)\n",
            "1 USB= 0.74 GBP (Libras esterlinas)\n",
            "1 USB= 7.12 CNY (Yuan chino)\n",
            "1 USB= 81.56 RUB (Rublos rusos)\n",
            "\n",
            "Cantidad deseada a convertir (USD):555\n",
            "\n",
            "Conversiones:\n",
            "10200.9 MXN\n",
            "471.75 EUR\n",
            "410.7 GBP\n",
            "3951.6 CNY\n",
            "45265.8 RUB\n"
          ]
        }
      ],
      "source": [
        "#Programa de divisas\n",
        "print(\"Conversión de divisas (dólares americanos):\")\n",
        "print(\"\\nTasas de cambio\")\n",
        "print(\"1 USB= 18.38 MXN (Pesos mexicanos)\")\n",
        "print(\"1 USB= 0.85 EUR (Euros)\")\n",
        "print(\"1 USB= 0.74 GBP (Libras esterlinas)\")\n",
        "print(\"1 USB= 7.12 CNY (Yuan chino)\")\n",
        "print(\"1 USB= 81.56 RUB (Rublos rusos)\")\n",
        "cantidad= float(input(\"\\nCantidad deseada a convertir (USD):\"))\n",
        "pesos=18.38*cantidad\n",
        "euros=0.85*cantidad\n",
        "libras=0.74*cantidad\n",
        "yuan=7.12*cantidad\n",
        "rublos=81.56*cantidad\n",
        "p=round(pesos, 2)\n",
        "e=round(euros, 2)\n",
        "g=round(libras, 2)\n",
        "c=round(yuan, 2)\n",
        "r=round(rublos,2)\n",
        "print(\"\\nConversiones:\")\n",
        "print(p,\"MXN\")\n",
        "print(e,\"EUR\")\n",
        "print(g,\"GBP\")\n",
        "print(c,\"CNY\")\n",
        "print(r,\"RUB\")"
      ]
    },
    {
      "cell_type": "code",
      "source": [
        "#Programa de números y operaciones\n",
        "p_n= float(input(\"Ingrese el primer número:\"))\n",
        "s_n= float(input(\"Ingrese el segundo número:\"))\n",
        "suma=p_n+s_n\n",
        "resta=p_n-s_n\n",
        "multi=p_n*s_n\n",
        "div=p_n/s_n\n",
        "pot_1=p_n**2\n",
        "pot_2=s_n**2\n",
        "raiz1=p_n**0.5\n",
        "raiz2=s_n**0.5\n",
        "p=round(pot_1, 2)\n",
        "s=round(suma, 2)\n",
        "r=round(resta, 2)\n",
        "m=round(multi, 2)\n",
        "d=round(div, 2)\n",
        "p1=round(pot_1, 2)\n",
        "p2=round(pot_2, 2)\n",
        "r1=round(raiz1, 2)\n",
        "r2=round(raiz2, 2)\n",
        "print(\"\\nOperaciones:\")\n",
        "print(\"Suma:\",s)\n",
        "print(\"Resta:\",r)\n",
        "print(\"Multiplicación:\",m)\n",
        "print(\"División:\",d)\n",
        "print(\"Potencias:\",p1,\",\",p2)\n",
        "print(\"Raíces cuadradas:\",r1,\",\",r2)"
      ],
      "metadata": {
        "colab": {
          "base_uri": "https://localhost:8080/"
        },
        "id": "tnhGsCiiYilj",
        "outputId": "ce617620-2696-4120-8567-188cdb24141f"
      },
      "execution_count": null,
      "outputs": [
        {
          "output_type": "stream",
          "name": "stdout",
          "text": [
            "Ingrese el primer número:1\n",
            "Ingrese el segundo número:2\n",
            "\n",
            "Operaciones:\n",
            "Suma: 3.0\n",
            "Resta: -1.0\n",
            "Multiplicación: 2.0\n",
            "División: 0.5\n",
            "Potencias: 1.0 , 4.0\n",
            "Raíces cuadradas: 1.0 , 1.41\n"
          ]
        }
      ]
    },
    {
      "cell_type": "code",
      "source": [
        "#Programa descuentos\n",
        "print(\"Calculadora de descuentos\")\n",
        "precio_0=float(input(\"Ingrese el precio del producto:\"))\n",
        "descuento=float(input(\"Ingrese el porcentaje de descuento:\"))\n",
        "s=descuento*precio_0/100\n",
        "precio_f=precio_0-s\n",
        "w=round(precio_f,2)\n",
        "print(\"El precio final es:\",w)"
      ],
      "metadata": {
        "id": "_TuqACeqbph6",
        "colab": {
          "base_uri": "https://localhost:8080/"
        },
        "outputId": "eac89606-75b9-47d5-e1be-f5a8a2bc9cc3"
      },
      "execution_count": null,
      "outputs": [
        {
          "output_type": "stream",
          "name": "stdout",
          "text": [
            "Calculadora de descuentos\n",
            "Ingrese el precio del producto:67\n",
            "Ingrese el porcentaje de descuento:8\n",
            "El precio final es: 61.64\n"
          ]
        }
      ]
    },
    {
      "cell_type": "code",
      "source": [
        "#Programa de conversión de coordenadas y localización geográfica\n",
        "_1_la_d=40\n",
        "_1_la_m=41\n",
        "_1_la_s=21\n",
        "_1_lo_d=74\n",
        "_1_lo_m=2\n",
        "_1_lo_s=40\n",
        "\n",
        "_2_la_d=48\n",
        "_2_la_m=51\n",
        "_2_la_s=12\n",
        "_2_lo_d=2\n",
        "_2_lo_m=20\n",
        "_2_lo_s=55\n",
        "\n",
        "_3_la_d=34\n",
        "_3_la_m=3\n",
        "_3_la_s=8\n",
        "_3_lo_d=151\n",
        "_3_lo_m=12\n",
        "_3_lo_s=33\n",
        "\n",
        "c1=_1_la_d+_1_la_m/60+_1_la_s/3600\n",
        "c2=_1_lo_d+_1_lo_m/60+_1_lo_s/3600\n",
        "c3=_2_la_d+_2_la_m/60+_2_la_s/3600\n",
        "c4=_2_lo_d+_2_lo_m/60+_2_lo_s/3600\n",
        "c5=_3_la_d+_3_la_m/60+_3_la_s/3600\n",
        "c6=_3_lo_d+_3_lo_m/60+_3_lo_s/3600\n",
        "_1=round(c1,3)\n",
        "_2=round(c2,3)\n",
        "_3=round(c3,3)\n",
        "_4=round(c4,3)\n",
        "_5=round(c5,3)\n",
        "_6=round(c6,3)\n",
        "print(\"Lugares emblemáticos:\")\n",
        "print(\"\\n1.-La estatua de la Libertad, Nueva York, USA\")\n",
        "print(\"Coordenadas\",\"(\",_1,\",\",\"-\",_2,\")\")\n",
        "print(\"\\n2.-Catedral de Notre Dame, Paris, Francia\")\n",
        "print(\"Coordenadas\",\"(\",_3,\",\",_4,\")\")\n",
        "print(\"\\n3.-Ópera de Sídney, Australia\")\n",
        "print(\"Coordenadas\",\"(-\",_5,\",\",_6,\")\")"
      ],
      "metadata": {
        "colab": {
          "base_uri": "https://localhost:8080/"
        },
        "id": "_JLocEY1jHM8",
        "outputId": "d5d6946b-be83-4dff-818c-880b1c4d3ac1"
      },
      "execution_count": null,
      "outputs": [
        {
          "output_type": "stream",
          "name": "stdout",
          "text": [
            "Lugares emblemáticos:\n",
            "\n",
            "1.-La estatua de la Libertad, Nueva York, USA\n",
            "Coordenadas ( 40.689 , - 74.044 )\n",
            "\n",
            "2.-Catedral de Notre Dame, Paris, Francia\n",
            "Coordenadas ( 48.853 , 2.349 )\n",
            "\n",
            "3.-Ópera de Sídney, Australia\n",
            "Coordenadas (- 34.052 , 151.209 )\n"
          ]
        }
      ]
    },
    {
      "cell_type": "code",
      "source": [
        "#Ejercicio de física\n",
        "m=2\n",
        "h=0.1\n",
        "ve=(3**2)\n",
        "v=3\n",
        "g=9.8\n",
        "Ec=(m*ve)/2\n",
        "Ep1=m*g*h\n",
        "Emt1=Ec+Ep1\n",
        "ep=round(Ep1,2)\n",
        "ec=round(Ec,2)\n",
        "print(\"Ejercicio de física\")\n",
        "print(\"\\nDatos:\")\n",
        "print(\"Masa:\",m, \"kg\")\n",
        "print(\"Altura:\",h, \"m\")\n",
        "print(\"Velocidad:\",v, \"m/s\")\n",
        "print(\"Gravedad considerada a:\",g,\"m/s^2\")\n",
        "print(\"\\nResultados:\")\n",
        "print(\"Energia cinética:\",ec,\"J\")\n",
        "print(\"Energia potencial:\",ep,\"J\")\n",
        "print(\"Energia total:\",Emt1,\"J\")"
      ],
      "metadata": {
        "colab": {
          "base_uri": "https://localhost:8080/"
        },
        "id": "aJz2yzmWogN5",
        "outputId": "98d19afe-4f2b-4a54-979c-8e6a05a9514a"
      },
      "execution_count": null,
      "outputs": [
        {
          "output_type": "stream",
          "name": "stdout",
          "text": [
            "Ejercicio de física\n",
            "\n",
            "Datos:\n",
            "Masa: 2 kg\n",
            "Altura: 0.1 m\n",
            "Velocidad: 3 m/s\n",
            "Gravedad considerada a: 9.8 m/s^2\n",
            "\n",
            "Resultados:\n",
            "Energia cinética: 9.0 J\n",
            "Energia potencial: 1.96 J\n",
            "Energia total: 10.96 J\n"
          ]
        }
      ]
    },
    {
      "cell_type": "code",
      "source": [
        "#Programa identificación de enteros\n",
        "entrada=input(\"Ingrese su un número entero:\")\n",
        "if float(entrada)%2==1: print(\"Es un entero impar\")\n",
        "elif float(entrada)%2==0: print(\"Es un entero par\")\n",
        "else: print(\"No es un entero\")"
      ],
      "metadata": {
        "id": "tM5MudepraYh",
        "colab": {
          "base_uri": "https://localhost:8080/"
        },
        "outputId": "13f0806a-17ba-4dad-cc3b-e355a87d8f4f"
      },
      "execution_count": null,
      "outputs": [
        {
          "output_type": "stream",
          "name": "stdout",
          "text": [
            "Ingrese su un número entero:5\n",
            "Es un entero impar\n"
          ]
        }
      ]
    },
    {
      "cell_type": "code",
      "source": [
        "#Programa triángulo\n",
        "print(\"Tipo de triángulo\")\n",
        "a=float(input(\"Ingrese el valor del primer lado:\"))\n",
        "b=float(input(\"Ingrese el valor del segundo lado:\"))\n",
        "c=float(input(\"Ingrese el valor del tercer lado:\"))\n",
        "if a==b==c: print(\"Es un triángulo equilátero\")\n",
        "elif a==b!=c or a!=b==c or a==c!=b: print(\"Es un triángulo isósceles\")\n",
        "elif a!=b!=c: print(\"Es un triángulo escaleno\")\n",
        "else: print(\"No es un triángulo\")"
      ],
      "metadata": {
        "colab": {
          "base_uri": "https://localhost:8080/"
        },
        "id": "5nlaSFnpHlc-",
        "outputId": "dd7b3366-c9f0-4bef-a85c-e6ccc65a05dc"
      },
      "execution_count": null,
      "outputs": [
        {
          "output_type": "stream",
          "name": "stdout",
          "text": [
            "Tipo de triángulo\n",
            "Ingrese el valor del primer lado:3\n",
            "Ingrese el valor del segundo lado:4\n",
            "Ingrese el valor del tercer lado:5\n",
            "Es un triángulo escaleno\n"
          ]
        }
      ]
    },
    {
      "cell_type": "code",
      "source": [
        "#Programa que determina al mayor de 3 números\n",
        "print(\"Programa que determina al mayor de 3 números\\n\")\n",
        "a=float(input(\"Ingrese el número a \"))\n",
        "b=float(input(\"Ingrese el número b \"))\n",
        "c=float(input(\"Ingrese el número c \"))\n",
        "\n",
        "if a==b==c: print(\"Son todos iguales\")\n",
        "elif a==b and a>c: print(\"Los números a y b son mayores\")\n",
        "elif a==c and a<b: print(\"El número b es el mayor\")\n",
        "elif b==c and b<a: print(\"El número a es el mayor\")\n",
        "elif a>b and a>c: print(\"El número a es el mayor\")\n",
        "elif b>a and b>c: print(\"El número b es el mayor\")\n",
        "else: print(\"El número c es el mayor\")"
      ],
      "metadata": {
        "id": "ARRwO80lNCju",
        "colab": {
          "base_uri": "https://localhost:8080/"
        },
        "outputId": "5ed8ebf7-1369-425e-9cae-43e37dea096f"
      },
      "execution_count": 229,
      "outputs": [
        {
          "output_type": "stream",
          "name": "stdout",
          "text": [
            "Programa que determina al mayor de 3 números\n",
            "\n",
            "Ingrese el número a 4\n",
            "Ingrese el número b 6.7\n",
            "Ingrese el número c 6\n",
            "El número b es el mayor\n"
          ]
        }
      ]
    },
    {
      "cell_type": "code",
      "source": [
        "#Programa de rectas\n",
        "print(\"Programa de rectas\")\n",
        "m1x=float(input(\"Ingresa la pendiente de la recta 1:\"))\n",
        "b1=float(input(\"Ingresa el valor de b de la recta 1:\"))\n",
        "m2x=float(input(\"Ingresa la pendiente de la recta 2:\"))\n",
        "b2=float(input(\"Ingresa el valor de b de la recta 2:\"))\n",
        "y1=(m1x*x1)+b1\n",
        "y2=(m2x*x2)+b2\n",
        "\n",
        "print(\"\\nRectas\\n\")\n",
        "if m1x==m2x and b1==b2: print(\"Son la misma recta\")\n",
        "elif m1x==m2x and b1!=b2: print(\"Las rectas son paralelas\")\n",
        "elif m1x==(-1/m2x) or m2x==(-1/m1x): print(\"Las rectas son perpendiculares\")\n",
        "else: print(\"Las rectas se intersectan\")"
      ],
      "metadata": {
        "colab": {
          "base_uri": "https://localhost:8080/"
        },
        "id": "HxuielHPOmPJ",
        "outputId": "645864e8-3469-4d93-f86a-593e9bbe7c43"
      },
      "execution_count": null,
      "outputs": [
        {
          "output_type": "stream",
          "name": "stdout",
          "text": [
            "Programa de rectas\n",
            "Ingresa la pendiente de la recta 1:1\n",
            "Ingresa el valor de b de la recta 1:2\n",
            "Ingresa la pendiente de la recta 2:1\n",
            "Ingresa el valor de b de la recta 2:2\n",
            "\n",
            "Rectas\n",
            "\n",
            "Son la misma recta\n"
          ]
        }
      ]
    },
    {
      "cell_type": "code",
      "source": [
        "#P\n",
        "año=float(input(\"Ingresa tu año de nacimiento: \"))\n",
        "n=año%4\n",
        "if año<2025:\n",
        "  if n==0: print(\"Tu año de nacimiento es bisiesto\")\n",
        "  elif n==1 or n==2 or n==3: print(\"Tu año de nacimiento no es bisiesto\")\n",
        "elif año>2025: print(\"Error, no pudiste haber nacido en ese año. Volver a ejecutar\")"
      ],
      "metadata": {
        "colab": {
          "base_uri": "https://localhost:8080/"
        },
        "id": "SHZnBCzqVvLz",
        "outputId": "3fb6b86a-082e-4dd7-b431-8b38baeaa85d"
      },
      "execution_count": null,
      "outputs": [
        {
          "output_type": "stream",
          "name": "stdout",
          "text": [
            "Ingresa tu año de nacimiento: 44444\n",
            "Error, no pudiste haber nacido en ese año. Volver a ejecutar\n"
          ]
        }
      ]
    }
  ]
}