{
  "nbformat": 4,
  "nbformat_minor": 0,
  "metadata": {
    "colab": {
      "provenance": [],
      "authorship_tag": "ABX9TyM1eucVkhY8enQmQSckusLr",
      "include_colab_link": true
    },
    "kernelspec": {
      "name": "python3",
      "display_name": "Python 3"
    },
    "language_info": {
      "name": "python"
    }
  },
  "cells": [
    {
      "cell_type": "markdown",
      "metadata": {
        "id": "view-in-github",
        "colab_type": "text"
      },
      "source": [
        "<a href=\"https://colab.research.google.com/github/Baldorpau07/Ejercicios-PYTHON/blob/main/Tareita.ipynb\" target=\"_parent\"><img src=\"https://colab.research.google.com/assets/colab-badge.svg\" alt=\"Open In Colab\"/></a>"
      ]
    },
    {
      "cell_type": "code",
      "execution_count": 2,
      "metadata": {
        "colab": {
          "base_uri": "https://localhost:8080/"
        },
        "id": "ovQgcEn60aMt",
        "outputId": "a886b040-0c25-4da6-8170-fd6001b90d6a"
      },
      "outputs": [
        {
          "output_type": "stream",
          "name": "stdout",
          "text": [
            "Python\n"
          ]
        }
      ],
      "source": [
        "x=\"Python\"\n",
        "print(x)"
      ]
    },
    {
      "cell_type": "code",
      "source": [
        "print(\" de flotante %f a entero %d \\n\"%(2.579,int(2.579)))\n",
        "print(\" de cadena %s a flotante %f  \\n\"%(\"5\",float(\"5\")))\n",
        "print(\" de cadena %s a flotante %f  \\n\"%(\"6\",float(\"6.666\")))\n",
        "print(\"%.10f\" % 2.0**10)\n",
        "print(\"%.5e\" %0.0000006456)\n",
        "print(\"{:+.2f}\".format(+3.657578))\n",
        "nombre=\"Paula\"\n",
        "edad=18\n",
        "print(f\"Hola, me llamo {nombre} y tengo {edad} años\")\n"
      ],
      "metadata": {
        "colab": {
          "base_uri": "https://localhost:8080/"
        },
        "id": "IjqOLFk92qNY",
        "outputId": "2f038bf3-8220-40c5-8d83-30b8e87ac353"
      },
      "execution_count": 13,
      "outputs": [
        {
          "output_type": "stream",
          "name": "stdout",
          "text": [
            " de flotante 2.579000 a entero 2 \n",
            "\n",
            " de cadena 5 a flotante 5.000000  \n",
            "\n",
            " de cadena 6 a flotante 6.666000  \n",
            "\n",
            "1024.0000000000\n",
            "6.45600e-07\n",
            "+3.66\n",
            "Hola, me llamo Paula y tengo 18 años\n"
          ]
        }
      ]
    },
    {
      "cell_type": "code",
      "source": [
        "edad=float(input(\"¿cuántos años tienes\"))\n",
        "años_te_faltan=100-edad\n",
        "print(f\"Te faltan {años_te_faltan} para cumplir 100 años\")\n"
      ],
      "metadata": {
        "colab": {
          "base_uri": "https://localhost:8080/"
        },
        "id": "frIwF2Sk5Yvp",
        "outputId": "b8ffd2a8-92bf-4879-f8c2-5445a4cc8502"
      },
      "execution_count": 17,
      "outputs": [
        {
          "output_type": "stream",
          "name": "stdout",
          "text": [
            "¿cuántos años tienes18\n",
            "Te faltan 82.0 para cumplir 100 años\n"
          ]
        }
      ]
    },
    {
      "cell_type": "code",
      "source": [
        "print(\"Hola mundo jijiji\")"
      ],
      "metadata": {
        "colab": {
          "base_uri": "https://localhost:8080/"
        },
        "id": "pDyhGwi465fy",
        "outputId": "28d968ca-22c0-4fba-9cc7-0841a6fe3179"
      },
      "execution_count": 18,
      "outputs": [
        {
          "output_type": "stream",
          "name": "stdout",
          "text": [
            "Hola mundo jijiji\n"
          ]
        }
      ]
    },
    {
      "cell_type": "code",
      "source": [
        "if 5>2:\n",
        "    print(\"5 es mayor que 2\")\n",
        "else:\n",
        "  print(\"5 es menor que 2\")\n",
        "#holaaaa\n",
        "\"\"\"hjjbhbhqsbahvhasjhsaabmahaa\n",
        "\"\"\"\n",
        "15//5\n",
        "26%5\n",
        "3**5"
      ],
      "metadata": {
        "colab": {
          "base_uri": "https://localhost:8080/"
        },
        "id": "tj8Nxjee69RS",
        "outputId": "c505d409-6285-4e33-e60c-ab8d73006857"
      },
      "execution_count": 32,
      "outputs": [
        {
          "output_type": "stream",
          "name": "stdout",
          "text": [
            "5 es mayor que 2\n"
          ]
        },
        {
          "output_type": "execute_result",
          "data": {
            "text/plain": [
              "243"
            ]
          },
          "metadata": {},
          "execution_count": 32
        }
      ]
    },
    {
      "cell_type": "code",
      "source": [
        "x=50\n",
        "y=6\n",
        "print(\"Tengo x manzanas y quiero repartirlas en partes iguales entre y estudiantes, ¿cuántas recibe cada una?\")\n",
        "repartir= 50//6\n",
        "print(repartir)"
      ],
      "metadata": {
        "colab": {
          "base_uri": "https://localhost:8080/"
        },
        "id": "CgRjOPH0-M_i",
        "outputId": "f2f88d8c-223c-4a12-8c0d-58160702e763"
      },
      "execution_count": 37,
      "outputs": [
        {
          "output_type": "stream",
          "name": "stdout",
          "text": [
            "Tengo x manzanas y quiero repartirlas en partes iguales entre y estudiantes, ¿cuántas recibe cada una?\n",
            "8\n"
          ]
        }
      ]
    },
    {
      "cell_type": "code",
      "source": [
        "print(\"Ejemplo con división entera\")\n",
        "curso=100\n",
        "dia_semanas=7\n",
        "print(\"sobran\")\n",
        "curso%dia_semanas\n",
        "print(\"hay\")\n",
        "curso//dia_semanas"
      ],
      "metadata": {
        "colab": {
          "base_uri": "https://localhost:8080/"
        },
        "id": "1DzKs_vL-_In",
        "outputId": "e889572a-58fe-4a09-ddce-778b9367fecd"
      },
      "execution_count": 49,
      "outputs": [
        {
          "output_type": "stream",
          "name": "stdout",
          "text": [
            "Ejemplo con división entera\n",
            "sobran\n",
            "hay\n"
          ]
        },
        {
          "output_type": "execute_result",
          "data": {
            "text/plain": [
              "14"
            ]
          },
          "metadata": {},
          "execution_count": 49
        }
      ]
    },
    {
      "cell_type": "code",
      "source": [
        "r=15\n",
        "s=5\n",
        "modulo= r%s\n",
        "print(\"sobran\")\n",
        "print(modulo)"
      ],
      "metadata": {
        "colab": {
          "base_uri": "https://localhost:8080/"
        },
        "id": "BdjzjjhD_vaK",
        "outputId": "0344426e-4c92-4251-ed73-1615456612b7"
      },
      "execution_count": 46,
      "outputs": [
        {
          "output_type": "stream",
          "name": "stdout",
          "text": [
            "sobran\n",
            "0\n"
          ]
        }
      ]
    },
    {
      "cell_type": "code",
      "source": [
        "entero=5\n",
        "print('el tipo de dato de %d es %s'%(entero,type(5)))\n",
        "flotante=5.0\n",
        "print('el tipo de dato de %f es  %s'%(flotante,type(5.0)))\n",
        "cadena=\"5\"\n",
        "print('el tipo de dato de %s es %s'%(cadena,type(\"5\")))\n",
        "boleano=True\n",
        "print(\"el tipo de dato de %r es %s\"%(boleano,type(True)))"
      ],
      "metadata": {
        "colab": {
          "base_uri": "https://localhost:8080/"
        },
        "id": "yOWxStu98HLB",
        "outputId": "5c84d408-629b-4d89-a47d-d6d0b41aef23"
      },
      "execution_count": 50,
      "outputs": [
        {
          "output_type": "stream",
          "name": "stdout",
          "text": [
            "el tipo de dato de 5 es <class 'int'>\n",
            "el tipo de dato de 5.000000 es  <class 'float'>\n",
            "el tipo de dato de 5 es <class 'str'>\n",
            "el tipo de dato de True es <class 'bool'>\n"
          ]
        }
      ]
    },
    {
      "cell_type": "code",
      "source": [
        "complejo=1.2 +5j\n",
        "type(complejo)"
      ],
      "metadata": {
        "colab": {
          "base_uri": "https://localhost:8080/"
        },
        "id": "8EhuIZMZ40Kx",
        "outputId": "748a7502-4a67-4149-b04d-fcc646fef1a6"
      },
      "execution_count": 57,
      "outputs": [
        {
          "output_type": "execute_result",
          "data": {
            "text/plain": [
              "complex"
            ]
          },
          "metadata": {},
          "execution_count": 57
        }
      ]
    },
    {
      "cell_type": "code",
      "source": [
        "resultado=(8>5) or (3<2)\n",
        "print(resultado)\n",
        "r= (4>=0) or(5<2)\n",
        "print(r)\n",
        "s=(5==round(5.2))\n",
        "print(s)\n"
      ],
      "metadata": {
        "colab": {
          "base_uri": "https://localhost:8080/"
        },
        "id": "Aq1bhMo2Bstp",
        "outputId": "7c2b1106-98fd-41dc-f433-5190b4f119d9"
      },
      "execution_count": 66,
      "outputs": [
        {
          "output_type": "stream",
          "name": "stdout",
          "text": [
            "True\n",
            "True\n",
            "True\n"
          ]
        }
      ]
    },
    {
      "cell_type": "code",
      "source": [
        "print(\"Dado un triángulo con lados\")\n",
        "a=7\n",
        "b=8\n",
        "c=9\n",
        "x=\"unidades cuadradas\"\n",
        "print(a,b,c)\n",
        "s=(a+b+c)/2\n",
        "A=(s*(s-a)*(s-b)*(s-c))**(0.5)\n",
        "print(\"Sea el semiperimetro:\")\n",
        "print(s)\n",
        "print(\"Área:\")\n",
        "print(A,x)"
      ],
      "metadata": {
        "colab": {
          "base_uri": "https://localhost:8080/"
        },
        "id": "o9DvEJUbDLh9",
        "outputId": "db4e52ad-3bff-4c58-b173-408107313010"
      },
      "execution_count": 99,
      "outputs": [
        {
          "output_type": "stream",
          "name": "stdout",
          "text": [
            "Dado un triángulo con lados\n",
            "7 8 9\n",
            "Sea el semiperimetro:\n",
            "12.0\n",
            "Área:\n",
            "26.832815729997478 unidades cuadradas\n",
            "Cálculo de raíces\n",
            "x^2 - 5x + 6 =  0\n",
            "x^2 + 4x + 13 =0\n"
          ]
        }
      ]
    },
    {
      "cell_type": "code",
      "source": [
        "print(\"Cálculo de raíces\")\n",
        "print(\"x^2 - 5x + 6 =  0\")\n",
        "print(\"x^2 + 4x + 13 =0\")\n",
        "a=1\n",
        "b=-5\n",
        "c=6\n",
        "d=4\n",
        "e=13\n",
        "x1=(-b +(b**2-4*a*c)**0.5)/(2*a)\n",
        "x2=(-b -(b**2-4*a*c)**0.5)/(2*a)\n",
        "x3=(-d +(d**2-4*a*e)**0.5)/(2*a)\n",
        "x4=(-d -(b**2-4*a*e)**0.5)/(2*a)\n",
        "print(\"Primera ecuación\")\n",
        "print(x1)\n",
        "print(x2)\n",
        "print(\"Segunda ecuación\")\n",
        "print(x3)\n",
        "print(x4)"
      ],
      "metadata": {
        "colab": {
          "base_uri": "https://localhost:8080/"
        },
        "id": "tUk0ekmhGwo_",
        "outputId": "dcb603e2-5ac9-47db-fb7f-eecf83e87147"
      },
      "execution_count": 142,
      "outputs": [
        {
          "output_type": "stream",
          "name": "stdout",
          "text": [
            "Cálculo de raíces\n",
            "x^2 - 5x + 6 =  0\n",
            "x^2 + 4x + 13 =0\n",
            "Primera ecuación\n",
            "3.0\n",
            "2.0\n",
            "Segunda ecuación\n",
            "(-1.9999999999999998+3j)\n",
            "(-2-2.598076211353316j)\n"
          ]
        }
      ]
    },
    {
      "cell_type": "code",
      "source": [],
      "metadata": {
        "id": "WYtTll-1KaYq"
      },
      "execution_count": null,
      "outputs": []
    }
  ]
}